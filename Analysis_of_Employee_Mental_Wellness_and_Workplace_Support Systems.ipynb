{
  "nbformat": 4,
  "nbformat_minor": 0,
  "metadata": {
    "colab": {
      "provenance": [],
      "include_colab_link": true
    },
    "kernelspec": {
      "name": "python3",
      "display_name": "Python 3"
    },
    "language_info": {
      "name": "python"
    }
  },
  "cells": [
    {
      "cell_type": "markdown",
      "metadata": {
        "id": "view-in-github",
        "colab_type": "text"
      },
      "source": [
        "<a href=\"https://colab.research.google.com/github/anabilde/Analysis-of-Employee-Mental-Wellness-and-Workplace-Support-Systems/blob/main/Analysis_of_Employee_Mental_Wellness_and_Workplace_Support%C2%A0Systems.ipynb\" target=\"_parent\"><img src=\"https://colab.research.google.com/assets/colab-badge.svg\" alt=\"Open In Colab\"/></a>"
      ]
    },
    {
      "cell_type": "markdown",
      "source": [
        "# **Analysis of Employee Mental Wellness and Workplace Support Systems**"
      ],
      "metadata": {
        "id": "1QlRfk4AA2EI"
      }
    },
    {
      "cell_type": "markdown",
      "source": [
        "\n",
        "## **Project Goal:**\n",
        "\n",
        "The goal of this project is to analyze the factors influencing employee mental wellness and evaluate the effectiveness of workplace support systems. By identifying key trends and areas of improvement, we aim to provide actionable insights for organizations to foster a healthier work environment.\n",
        "\n",
        "### **Why This Analysis Matters:**\n",
        "\n",
        "Employee mental wellness is critical for organizational productivity, employee satisfaction, and overall workplace harmony. Understanding how workplace support systems impact mental health helps organizations implement strategies to enhance employee well-being.\n",
        "\n",
        "### **Dataset Information**\n",
        "\n",
        "This dataset is from a 2014 survey that measures attitudes towards mental health and frequency of mental health disorders in the tech workplace."
      ],
      "metadata": {
        "id": "u8_Crw_7BPjY"
      }
    },
    {
      "cell_type": "markdown",
      "source": [
        "***MOUNTING DRIVE***"
      ],
      "metadata": {
        "id": "LAXWDwTaCIaq"
      }
    },
    {
      "cell_type": "code",
      "source": [
        "from google.colab import drive\n",
        "drive.mount('/content/drive', force_remount=True)"
      ],
      "metadata": {
        "colab": {
          "base_uri": "https://localhost:8080/"
        },
        "id": "JtV8LbpwAP_i",
        "outputId": "83573e43-5cc5-4eeb-da14-8cb43752dea7"
      },
      "execution_count": 2,
      "outputs": [
        {
          "output_type": "stream",
          "name": "stdout",
          "text": [
            "Mounted at /content/drive\n"
          ]
        }
      ]
    },
    {
      "cell_type": "markdown",
      "source": [
        "***IMPORTING NECESSARY LIBRARIES***"
      ],
      "metadata": {
        "id": "4PNwyvoOB0Kh"
      }
    },
    {
      "cell_type": "code",
      "source": [
        "import warnings\n",
        "warnings.filterwarnings('ignore')\n",
        "\n",
        "#basic libraries\n",
        "import numpy as np\n",
        "import pandas as pd\n",
        "\n",
        "#visualization libraries\n",
        "import missingno as msno\n",
        "import matplotlib\n",
        "import matplotlib.pyplot as plt\n",
        "import seaborn as sns\n",
        "import plotly.express as px\n",
        "import plotly.graph_objects as go\n",
        "%matplotlib inline"
      ],
      "metadata": {
        "id": "Y0EUSvVEBuko"
      },
      "execution_count": 3,
      "outputs": []
    },
    {
      "cell_type": "markdown",
      "source": [
        "***IMPORTING SURVEY.CSV DATA FROM DRIVE AND LOAD THE DATA***"
      ],
      "metadata": {
        "id": "BRVpoQ5Oa-a-"
      }
    },
    {
      "cell_type": "code",
      "execution_count": 5,
      "metadata": {
        "id": "Mn_ofuc69yxa",
        "colab": {
          "base_uri": "https://localhost:8080/"
        },
        "outputId": "9bac935b-cfef-48e6-c9af-0959acdd67b2"
      },
      "outputs": [
        {
          "output_type": "stream",
          "name": "stdout",
          "text": [
            "             Timestamp  Age  Gender         Country state self_employed  \\\n",
            "0  2014-08-27 11:29:31   37  Female   United States    IL           NaN   \n",
            "1  2014-08-27 11:29:37   44       M   United States    IN           NaN   \n",
            "2  2014-08-27 11:29:44   32    Male          Canada   NaN           NaN   \n",
            "3  2014-08-27 11:29:46   31    Male  United Kingdom   NaN           NaN   \n",
            "4  2014-08-27 11:30:22   31    Male   United States    TX           NaN   \n",
            "\n",
            "  family_history treatment work_interfere    no_employees  ...  \\\n",
            "0             No       Yes          Often            6-25  ...   \n",
            "1             No        No         Rarely  More than 1000  ...   \n",
            "2             No        No         Rarely            6-25  ...   \n",
            "3            Yes       Yes          Often          26-100  ...   \n",
            "4             No        No          Never         100-500  ...   \n",
            "\n",
            "                leave mental_health_consequence phys_health_consequence  \\\n",
            "0       Somewhat easy                        No                      No   \n",
            "1          Don't know                     Maybe                      No   \n",
            "2  Somewhat difficult                        No                      No   \n",
            "3  Somewhat difficult                       Yes                     Yes   \n",
            "4          Don't know                        No                      No   \n",
            "\n",
            "      coworkers supervisor mental_health_interview phys_health_interview  \\\n",
            "0  Some of them        Yes                      No                 Maybe   \n",
            "1            No         No                      No                    No   \n",
            "2           Yes        Yes                     Yes                   Yes   \n",
            "3  Some of them         No                   Maybe                 Maybe   \n",
            "4  Some of them        Yes                     Yes                   Yes   \n",
            "\n",
            "  mental_vs_physical obs_consequence comments  \n",
            "0                Yes              No      NaN  \n",
            "1         Don't know              No      NaN  \n",
            "2                 No              No      NaN  \n",
            "3                 No             Yes      NaN  \n",
            "4         Don't know              No      NaN  \n",
            "\n",
            "[5 rows x 27 columns]\n"
          ]
        }
      ],
      "source": [
        "# Load the dataset\n",
        "data = pd.read_csv('/content/drive/My Drive/Analysis of Employee Mental Wellness and Workplace Support Systems/survey.csv')\n",
        "\n",
        "# Preview the data\n",
        "print(data.head())\n"
      ]
    },
    {
      "cell_type": "code",
      "source": [
        "# Assuming 'data' is your DataFrame\n",
        "print(data.info())"
      ],
      "metadata": {
        "colab": {
          "base_uri": "https://localhost:8080/"
        },
        "id": "7Q9U0wdYY_VI",
        "outputId": "55bead11-5bbe-4632-b880-6b55b4302879"
      },
      "execution_count": 6,
      "outputs": [
        {
          "output_type": "stream",
          "name": "stdout",
          "text": [
            "<class 'pandas.core.frame.DataFrame'>\n",
            "RangeIndex: 1259 entries, 0 to 1258\n",
            "Data columns (total 27 columns):\n",
            " #   Column                     Non-Null Count  Dtype \n",
            "---  ------                     --------------  ----- \n",
            " 0   Timestamp                  1259 non-null   object\n",
            " 1   Age                        1259 non-null   int64 \n",
            " 2   Gender                     1259 non-null   object\n",
            " 3   Country                    1259 non-null   object\n",
            " 4   state                      744 non-null    object\n",
            " 5   self_employed              1241 non-null   object\n",
            " 6   family_history             1259 non-null   object\n",
            " 7   treatment                  1259 non-null   object\n",
            " 8   work_interfere             995 non-null    object\n",
            " 9   no_employees               1259 non-null   object\n",
            " 10  remote_work                1259 non-null   object\n",
            " 11  tech_company               1259 non-null   object\n",
            " 12  benefits                   1259 non-null   object\n",
            " 13  care_options               1259 non-null   object\n",
            " 14  wellness_program           1259 non-null   object\n",
            " 15  seek_help                  1259 non-null   object\n",
            " 16  anonymity                  1259 non-null   object\n",
            " 17  leave                      1259 non-null   object\n",
            " 18  mental_health_consequence  1259 non-null   object\n",
            " 19  phys_health_consequence    1259 non-null   object\n",
            " 20  coworkers                  1259 non-null   object\n",
            " 21  supervisor                 1259 non-null   object\n",
            " 22  mental_health_interview    1259 non-null   object\n",
            " 23  phys_health_interview      1259 non-null   object\n",
            " 24  mental_vs_physical         1259 non-null   object\n",
            " 25  obs_consequence            1259 non-null   object\n",
            " 26  comments                   164 non-null    object\n",
            "dtypes: int64(1), object(26)\n",
            "memory usage: 265.7+ KB\n",
            "None\n"
          ]
        }
      ]
    },
    {
      "cell_type": "code",
      "source": [
        "# Assuming 'data' is your DataFrame\n",
        "print(data.columns)\n"
      ],
      "metadata": {
        "colab": {
          "base_uri": "https://localhost:8080/"
        },
        "id": "PlK6seBbZOTA",
        "outputId": "cd670b24-5a6b-409f-b8a4-e1beab44c530"
      },
      "execution_count": 7,
      "outputs": [
        {
          "output_type": "stream",
          "name": "stdout",
          "text": [
            "Index(['Timestamp', 'Age', 'Gender', 'Country', 'state', 'self_employed',\n",
            "       'family_history', 'treatment', 'work_interfere', 'no_employees',\n",
            "       'remote_work', 'tech_company', 'benefits', 'care_options',\n",
            "       'wellness_program', 'seek_help', 'anonymity', 'leave',\n",
            "       'mental_health_consequence', 'phys_health_consequence', 'coworkers',\n",
            "       'supervisor', 'mental_health_interview', 'phys_health_interview',\n",
            "       'mental_vs_physical', 'obs_consequence', 'comments'],\n",
            "      dtype='object')\n"
          ]
        }
      ]
    },
    {
      "cell_type": "markdown",
      "source": [
        "\n",
        "\n",
        "---\n",
        "\n",
        "\n",
        "### **This code cleans and normalizes the 'Gender' column by:**\n",
        "1. Defining a function (`clean_gender`) to categorize gender into 'Male', 'Female', or 'Non-binary/Other' while handling inconsistencies.\n",
        "2. Applying the function to create a new cleaned column ('Gender_Cleaned').\n",
        "3. Displaying unique cleaned values for verification.\n",
        "4. Saving the updated dataset with the cleaned column to a new Excel file.\n",
        "\n"
      ],
      "metadata": {
        "id": "dd3XnRUjbprh"
      }
    },
    {
      "cell_type": "code",
      "source": [
        "import pandas as pd\n",
        "import numpy as np\n",
        "\n",
        "# Define a mapping function to clean the 'Gender' column\n",
        "def clean_gender(gender):\n",
        "    if pd.isna(gender):\n",
        "        return np.nan\n",
        "    gender = gender.strip().lower()  # Normalize case and trim spaces\n",
        "    if gender in ['male', 'm', 'man', 'male-ish', 'maile', 'cis male', 'male (cis)', 'msle', 'malr', 'mal', 'mail', 'make', 'guy (-ish) ^_^', 'ostensibly male, unsure what that really means']:\n",
        "        return 'Male'\n",
        "    elif gender in ['female', 'f', 'woman', 'cis female', 'femake', 'female (cis)', 'female (trans)', 'trans-female', 'femail']:\n",
        "        return 'Female'\n",
        "    elif gender in ['non-binary', 'genderqueer', 'androgyne', 'enby', 'fluid', 'agender', 'queer', 'queer/she/they', 'male leaning androgynous', 'something kinda male?', 'cis-female/femme']:\n",
        "        return 'Non-binary/Other'\n",
        "    else:\n",
        "        return np.nan  # For unclear or invalid entries\n",
        "\n",
        "# Apply the cleaning function to the 'Gender' column\n",
        "data['Gender_Cleaned'] = data['Gender'].apply(clean_gender)\n",
        "\n",
        "# Display the unique cleaned values\n",
        "print(data['Gender_Cleaned'].unique())\n",
        "\n",
        "# Save the cleaned dataset to a new Excel file\n",
        "data.to_excel('/content/drive/My Drive/Analysis of Employee Mental Wellness and Workplace Support Systems/survey.xlsx', index=False)  # Update save path\n"
      ],
      "metadata": {
        "id": "0O3pTZTILe0G",
        "colab": {
          "base_uri": "https://localhost:8080/"
        },
        "outputId": "7d66ef2e-2cbf-45d3-9c0b-6b476447a5ec"
      },
      "execution_count": 8,
      "outputs": [
        {
          "output_type": "stream",
          "name": "stdout",
          "text": [
            "['Female' 'Male' 'Non-binary/Other' nan]\n"
          ]
        }
      ]
    },
    {
      "cell_type": "markdown",
      "source": [
        "\n",
        "\n",
        "---\n",
        "\n",
        "\n",
        "### **This code cleans the 'Age' column by:**\n",
        "1. Applying a condition to filter out unrealistic values (keeping ages between 15 and 70) and setting others to `NaN`.\n",
        "2. Creating a new column ('Age_Cleaned') to store the cleaned age values.\n",
        "3. Displaying the original and cleaned age values for verification.\n",
        "4. Saving the updated dataset with the cleaned column to a new Excel file.\n",
        "\n"
      ],
      "metadata": {
        "id": "EyxPKIAYgGWq"
      }
    },
    {
      "cell_type": "code",
      "source": [
        "# Clean the Age column by applying the condition\n",
        "data['Age_Cleaned'] = data['Age'].apply(lambda x: x if 15 < x < 70 else np.nan)\n",
        "\n",
        "# Display the cleaned Age column\n",
        "print(data[['Age', 'Age_Cleaned']].head())\n",
        "\n",
        "# Save the cleaned dataset to a new Excel file\n",
        "data.to_excel('/content/drive/My Drive/Analysis of Employee Mental Wellness and Workplace Support Systems/survey.xlsx', index=False)  # Update save path"
      ],
      "metadata": {
        "colab": {
          "base_uri": "https://localhost:8080/"
        },
        "id": "olqLF53eowvl",
        "outputId": "b7e5bb39-b350-4204-feef-0ec7f4b62d13"
      },
      "execution_count": 9,
      "outputs": [
        {
          "output_type": "stream",
          "name": "stdout",
          "text": [
            "   Age  Age_Cleaned\n",
            "0   37         37.0\n",
            "1   44         44.0\n",
            "2   32         32.0\n",
            "3   31         31.0\n",
            "4   31         31.0\n"
          ]
        }
      ]
    },
    {
      "cell_type": "markdown",
      "source": [
        "\n",
        "\n",
        "---\n",
        "\n",
        "\n",
        "### **This code removes unnecessary columns from the dataset by:**\n",
        "1. Dropping the 'Timestamp', 'state', and 'comments' columns using the `drop()` method.\n",
        "2. Displaying the updated dataset to ensure the columns have been removed.\n",
        "3. Saving the cleaned dataset to the existing Excel file.\n",
        "\n"
      ],
      "metadata": {
        "id": "VHgPeWd6uKie"
      }
    },
    {
      "cell_type": "code",
      "source": [
        "# Drop the specified columns from the dataset\n",
        "data = data.drop(columns=['Timestamp', 'state', 'comments'])\n",
        "\n",
        "# Display the updated DataFrame to verify\n",
        "print(data.head())\n",
        "\n",
        "# Save the cleaned dataset to the existing Excel file\n",
        "data.to_excel('/content/drive/My Drive/Analysis of Employee Mental Wellness and Workplace Support Systems/survey.xlsx', index=False)  # Update save path"
      ],
      "metadata": {
        "id": "ZtV0pjJfojL2",
        "colab": {
          "base_uri": "https://localhost:8080/"
        },
        "outputId": "193e6692-e419-40ff-d984-74024305609e"
      },
      "execution_count": null,
      "outputs": [
        {
          "output_type": "stream",
          "name": "stdout",
          "text": [
            "   Age  Gender         Country self_employed family_history treatment  \\\n",
            "0   37  Female   United States           NaN             No       Yes   \n",
            "1   44       M   United States           NaN             No        No   \n",
            "2   32    Male          Canada           NaN             No        No   \n",
            "3   31    Male  United Kingdom           NaN            Yes       Yes   \n",
            "4   31    Male   United States           NaN             No        No   \n",
            "\n",
            "  work_interfere    no_employees remote_work tech_company  ...  \\\n",
            "0          Often            6-25          No          Yes  ...   \n",
            "1         Rarely  More than 1000          No           No  ...   \n",
            "2         Rarely            6-25          No          Yes  ...   \n",
            "3          Often          26-100          No          Yes  ...   \n",
            "4          Never         100-500         Yes          Yes  ...   \n",
            "\n",
            "  phys_health_consequence     coworkers supervisor mental_health_interview  \\\n",
            "0                      No  Some of them        Yes                      No   \n",
            "1                      No            No         No                      No   \n",
            "2                      No           Yes        Yes                     Yes   \n",
            "3                     Yes  Some of them         No                   Maybe   \n",
            "4                      No  Some of them        Yes                     Yes   \n",
            "\n",
            "  phys_health_interview mental_vs_physical obs_consequence Gender_Cleaned  \\\n",
            "0                 Maybe                Yes              No         Female   \n",
            "1                    No         Don't know              No           Male   \n",
            "2                   Yes                 No              No           Male   \n",
            "3                 Maybe                 No             Yes           Male   \n",
            "4                   Yes         Don't know              No           Male   \n",
            "\n",
            "  Age_Cleaned Age_Group  \n",
            "0        37.0     36-45  \n",
            "1        44.0     36-45  \n",
            "2        32.0     26-35  \n",
            "3        31.0     26-35  \n",
            "4        31.0     26-35  \n",
            "\n",
            "[5 rows x 27 columns]\n"
          ]
        }
      ]
    },
    {
      "cell_type": "markdown",
      "source": [
        "### **Description of Gender and Age Group Distribution Graphs**\n",
        "The following graphs provide insights into the distribution of participants based on Gender and Age Group.\n",
        "\n",
        "**Gender Representation (Pie Chart):** This pie chart visualizes the proportion of individuals across different genders in the dataset. The chart divides participants into three categories: Male, Female, and Other. The color-coded segments represent the gender distribution, with Male shown in skyblue, Female in pink, and Other in green. The percentage labels on the chart allow for quick insight into the gender makeup of the population.\n",
        "\n",
        "**Age Group Distribution (Pie Chart):** The second pie chart illustrates the distribution of participants across various age groups. The groups are divided into 18-25, 26-35, 36-45, and 46+. Each age group is color-coded: 18-25 is displayed in light blue, 26-35 in orange, 36-45 in green, and 46+ in red. The chart offers a clear overview of the age demographics within the dataset, highlighting which age group constitutes the largest portion of participants.\n",
        "\n",
        "Both charts are presented side by side for comparative analysis, allowing viewers to easily observe the relationship between gender and age group in the dataset."
      ],
      "metadata": {
        "id": "aU6bBMOKCZbb"
      }
    },
    {
      "cell_type": "code",
      "source": [
        "import pandas as pd\n",
        "\n",
        "# Define bins and labels for Age Groups\n",
        "bins = [0, 17, 25, 35, 45, 100]  # Age ranges (0-17, 18-25, 26-35, 36-45, 46+)\n",
        "labels = ['0-17', '18-25', '26-35', '36-45', '46+']\n",
        "\n",
        "# Create the 'Age_Group' column by binning the 'Age' column\n",
        "data['Age_Group'] = pd.cut(data['Age'], bins=bins, labels=labels, right=True)\n",
        "\n",
        "# Verify the new column\n",
        "print(data[['Age', 'Age_Group']].head())\n",
        "\n",
        "# Save the cleaned dataset to the existing Excel file\n",
        "data.to_excel('/content/drive/My Drive/Analysis of Employee Mental Wellness and Workplace Support Systems/survey.xlsx', index=False)  # Update save path"
      ],
      "metadata": {
        "colab": {
          "base_uri": "https://localhost:8080/"
        },
        "id": "NjNq_Yhj8Ap5",
        "outputId": "8f9028a2-b08a-4798-be63-814a47a06441"
      },
      "execution_count": 10,
      "outputs": [
        {
          "output_type": "stream",
          "name": "stdout",
          "text": [
            "   Age Age_Group\n",
            "0   37     36-45\n",
            "1   44     36-45\n",
            "2   32     26-35\n",
            "3   31     26-35\n",
            "4   31     26-35\n"
          ]
        }
      ]
    },
    {
      "cell_type": "code",
      "source": [
        "import plotly.graph_objects as go\n",
        "import plotly.express as px\n",
        "from plotly.subplots import make_subplots\n",
        "\n",
        "# Assuming 'data' is your main DataFrame\n",
        "# Count Gender distribution\n",
        "by_gen = data['Gender_Cleaned'].value_counts().reset_index(name='count')\n",
        "by_gen.columns = ['Gender_Cleaned', 'count']\n",
        "\n",
        "# Group the data by Age Group to get counts\n",
        "by_age = data['Age_Group'].value_counts().reset_index(name='count')\n",
        "by_age.columns = ['Age_Group', 'count']  # Renaming columns for better readability\n",
        "\n",
        "# Create the first pie chart for Gender distribution\n",
        "gender_fig = px.pie(by_gen, names='Gender_Cleaned', values='count', title='Gender Representation',\n",
        "                     color='Gender_Cleaned', color_discrete_map={'Male': 'skyblue', 'Female': 'pink', 'Other': 'green'})\n",
        "gender_fig.update_traces(textinfo='percent+label', hole=0.3)\n",
        "\n",
        "# Create the second pie chart for Age group distribution\n",
        "age_fig = px.pie(by_age, names='Age_Group', values='count', title='Age Group Distribution',\n",
        "                  color='Age_Group', color_discrete_map={'18-25': 'lightblue', '26-35': 'orange', '36-45': 'green', '46+': 'red'})\n",
        "age_fig.update_traces(textinfo='percent+label', hole=0.3)\n",
        "\n",
        "# Create subplots with two pie charts side by side\n",
        "fig = make_subplots(rows=1, cols=2, subplot_titles=('Gender Representation', 'Age Group Distribution'),\n",
        "                    specs=[[{'type': 'pie'}, {'type': 'pie'}]])\n",
        "\n",
        "# Add the gender pie chart to the first subplot\n",
        "fig.add_trace(gender_fig.data[0], row=1, col=1)\n",
        "\n",
        "# Add the age group pie chart to the second subplot\n",
        "fig.add_trace(age_fig.data[0], row=1, col=2)\n",
        "\n",
        "# Update the layout to improve the spacing\n",
        "fig.update_layout(title_text='Gender and Age Group Distribution', showlegend=True)\n",
        "\n",
        "# Show the final combined figure\n",
        "fig.show()\n"
      ],
      "metadata": {
        "colab": {
          "base_uri": "https://localhost:8080/",
          "height": 542
        },
        "id": "dRQqlRShjk2_",
        "outputId": "c74572d0-d4f8-43f1-d22b-abbc8579797c"
      },
      "execution_count": 11,
      "outputs": [
        {
          "output_type": "display_data",
          "data": {
            "text/html": [
              "<html>\n",
              "<head><meta charset=\"utf-8\" /></head>\n",
              "<body>\n",
              "    <div>            <script src=\"https://cdnjs.cloudflare.com/ajax/libs/mathjax/2.7.5/MathJax.js?config=TeX-AMS-MML_SVG\"></script><script type=\"text/javascript\">if (window.MathJax && window.MathJax.Hub && window.MathJax.Hub.Config) {window.MathJax.Hub.Config({SVG: {font: \"STIX-Web\"}});}</script>                <script type=\"text/javascript\">window.PlotlyConfig = {MathJaxConfig: 'local'};</script>\n",
              "        <script charset=\"utf-8\" src=\"https://cdn.plot.ly/plotly-2.35.2.min.js\"></script>                <div id=\"a0081d42-6372-470b-877e-0fc691d8a86a\" class=\"plotly-graph-div\" style=\"height:525px; width:100%;\"></div>            <script type=\"text/javascript\">                                    window.PLOTLYENV=window.PLOTLYENV || {};                                    if (document.getElementById(\"a0081d42-6372-470b-877e-0fc691d8a86a\")) {                    Plotly.newPlot(                        \"a0081d42-6372-470b-877e-0fc691d8a86a\",                        [{\"customdata\":[[\"Male\"],[\"Female\"],[\"Non-binary\\u002fOther\"]],\"domain\":{\"x\":[0.0,0.45],\"y\":[0.0,1.0]},\"hole\":0.3,\"hovertemplate\":\"Gender_Cleaned=%{customdata[0]}\\u003cbr\\u003ecount=%{value}\\u003cextra\\u003e\\u003c\\u002fextra\\u003e\",\"labels\":[\"Male\",\"Female\",\"Non-binary\\u002fOther\"],\"legendgroup\":\"\",\"marker\":{\"colors\":[\"skyblue\",\"pink\",\"#ab63fa\"]},\"name\":\"\",\"showlegend\":true,\"textinfo\":\"percent+label\",\"values\":[992,249,11],\"type\":\"pie\"},{\"customdata\":[[\"26-35\"],[\"36-45\"],[\"18-25\"],[\"46+\"],[\"0-17\"]],\"domain\":{\"x\":[0.55,1.0],\"y\":[0.0,1.0]},\"hole\":0.3,\"hovertemplate\":\"Age_Group=%{customdata[0]}\\u003cbr\\u003ecount=%{value}\\u003cextra\\u003e\\u003c\\u002fextra\\u003e\",\"labels\":[\"26-35\",\"36-45\",\"18-25\",\"46+\",\"0-17\"],\"legendgroup\":\"\",\"marker\":{\"colors\":[\"orange\",\"green\",\"lightblue\",\"red\",\"#FFA15A\"]},\"name\":\"\",\"showlegend\":true,\"textinfo\":\"percent+label\",\"values\":[701,277,217,56,3],\"type\":\"pie\"}],                        {\"template\":{\"data\":{\"histogram2dcontour\":[{\"type\":\"histogram2dcontour\",\"colorbar\":{\"outlinewidth\":0,\"ticks\":\"\"},\"colorscale\":[[0.0,\"#0d0887\"],[0.1111111111111111,\"#46039f\"],[0.2222222222222222,\"#7201a8\"],[0.3333333333333333,\"#9c179e\"],[0.4444444444444444,\"#bd3786\"],[0.5555555555555556,\"#d8576b\"],[0.6666666666666666,\"#ed7953\"],[0.7777777777777778,\"#fb9f3a\"],[0.8888888888888888,\"#fdca26\"],[1.0,\"#f0f921\"]]}],\"choropleth\":[{\"type\":\"choropleth\",\"colorbar\":{\"outlinewidth\":0,\"ticks\":\"\"}}],\"histogram2d\":[{\"type\":\"histogram2d\",\"colorbar\":{\"outlinewidth\":0,\"ticks\":\"\"},\"colorscale\":[[0.0,\"#0d0887\"],[0.1111111111111111,\"#46039f\"],[0.2222222222222222,\"#7201a8\"],[0.3333333333333333,\"#9c179e\"],[0.4444444444444444,\"#bd3786\"],[0.5555555555555556,\"#d8576b\"],[0.6666666666666666,\"#ed7953\"],[0.7777777777777778,\"#fb9f3a\"],[0.8888888888888888,\"#fdca26\"],[1.0,\"#f0f921\"]]}],\"heatmap\":[{\"type\":\"heatmap\",\"colorbar\":{\"outlinewidth\":0,\"ticks\":\"\"},\"colorscale\":[[0.0,\"#0d0887\"],[0.1111111111111111,\"#46039f\"],[0.2222222222222222,\"#7201a8\"],[0.3333333333333333,\"#9c179e\"],[0.4444444444444444,\"#bd3786\"],[0.5555555555555556,\"#d8576b\"],[0.6666666666666666,\"#ed7953\"],[0.7777777777777778,\"#fb9f3a\"],[0.8888888888888888,\"#fdca26\"],[1.0,\"#f0f921\"]]}],\"heatmapgl\":[{\"type\":\"heatmapgl\",\"colorbar\":{\"outlinewidth\":0,\"ticks\":\"\"},\"colorscale\":[[0.0,\"#0d0887\"],[0.1111111111111111,\"#46039f\"],[0.2222222222222222,\"#7201a8\"],[0.3333333333333333,\"#9c179e\"],[0.4444444444444444,\"#bd3786\"],[0.5555555555555556,\"#d8576b\"],[0.6666666666666666,\"#ed7953\"],[0.7777777777777778,\"#fb9f3a\"],[0.8888888888888888,\"#fdca26\"],[1.0,\"#f0f921\"]]}],\"contourcarpet\":[{\"type\":\"contourcarpet\",\"colorbar\":{\"outlinewidth\":0,\"ticks\":\"\"}}],\"contour\":[{\"type\":\"contour\",\"colorbar\":{\"outlinewidth\":0,\"ticks\":\"\"},\"colorscale\":[[0.0,\"#0d0887\"],[0.1111111111111111,\"#46039f\"],[0.2222222222222222,\"#7201a8\"],[0.3333333333333333,\"#9c179e\"],[0.4444444444444444,\"#bd3786\"],[0.5555555555555556,\"#d8576b\"],[0.6666666666666666,\"#ed7953\"],[0.7777777777777778,\"#fb9f3a\"],[0.8888888888888888,\"#fdca26\"],[1.0,\"#f0f921\"]]}],\"surface\":[{\"type\":\"surface\",\"colorbar\":{\"outlinewidth\":0,\"ticks\":\"\"},\"colorscale\":[[0.0,\"#0d0887\"],[0.1111111111111111,\"#46039f\"],[0.2222222222222222,\"#7201a8\"],[0.3333333333333333,\"#9c179e\"],[0.4444444444444444,\"#bd3786\"],[0.5555555555555556,\"#d8576b\"],[0.6666666666666666,\"#ed7953\"],[0.7777777777777778,\"#fb9f3a\"],[0.8888888888888888,\"#fdca26\"],[1.0,\"#f0f921\"]]}],\"mesh3d\":[{\"type\":\"mesh3d\",\"colorbar\":{\"outlinewidth\":0,\"ticks\":\"\"}}],\"scatter\":[{\"fillpattern\":{\"fillmode\":\"overlay\",\"size\":10,\"solidity\":0.2},\"type\":\"scatter\"}],\"parcoords\":[{\"type\":\"parcoords\",\"line\":{\"colorbar\":{\"outlinewidth\":0,\"ticks\":\"\"}}}],\"scatterpolargl\":[{\"type\":\"scatterpolargl\",\"marker\":{\"colorbar\":{\"outlinewidth\":0,\"ticks\":\"\"}}}],\"bar\":[{\"error_x\":{\"color\":\"#2a3f5f\"},\"error_y\":{\"color\":\"#2a3f5f\"},\"marker\":{\"line\":{\"color\":\"#E5ECF6\",\"width\":0.5},\"pattern\":{\"fillmode\":\"overlay\",\"size\":10,\"solidity\":0.2}},\"type\":\"bar\"}],\"scattergeo\":[{\"type\":\"scattergeo\",\"marker\":{\"colorbar\":{\"outlinewidth\":0,\"ticks\":\"\"}}}],\"scatterpolar\":[{\"type\":\"scatterpolar\",\"marker\":{\"colorbar\":{\"outlinewidth\":0,\"ticks\":\"\"}}}],\"histogram\":[{\"marker\":{\"pattern\":{\"fillmode\":\"overlay\",\"size\":10,\"solidity\":0.2}},\"type\":\"histogram\"}],\"scattergl\":[{\"type\":\"scattergl\",\"marker\":{\"colorbar\":{\"outlinewidth\":0,\"ticks\":\"\"}}}],\"scatter3d\":[{\"type\":\"scatter3d\",\"line\":{\"colorbar\":{\"outlinewidth\":0,\"ticks\":\"\"}},\"marker\":{\"colorbar\":{\"outlinewidth\":0,\"ticks\":\"\"}}}],\"scattermapbox\":[{\"type\":\"scattermapbox\",\"marker\":{\"colorbar\":{\"outlinewidth\":0,\"ticks\":\"\"}}}],\"scatterternary\":[{\"type\":\"scatterternary\",\"marker\":{\"colorbar\":{\"outlinewidth\":0,\"ticks\":\"\"}}}],\"scattercarpet\":[{\"type\":\"scattercarpet\",\"marker\":{\"colorbar\":{\"outlinewidth\":0,\"ticks\":\"\"}}}],\"carpet\":[{\"aaxis\":{\"endlinecolor\":\"#2a3f5f\",\"gridcolor\":\"white\",\"linecolor\":\"white\",\"minorgridcolor\":\"white\",\"startlinecolor\":\"#2a3f5f\"},\"baxis\":{\"endlinecolor\":\"#2a3f5f\",\"gridcolor\":\"white\",\"linecolor\":\"white\",\"minorgridcolor\":\"white\",\"startlinecolor\":\"#2a3f5f\"},\"type\":\"carpet\"}],\"table\":[{\"cells\":{\"fill\":{\"color\":\"#EBF0F8\"},\"line\":{\"color\":\"white\"}},\"header\":{\"fill\":{\"color\":\"#C8D4E3\"},\"line\":{\"color\":\"white\"}},\"type\":\"table\"}],\"barpolar\":[{\"marker\":{\"line\":{\"color\":\"#E5ECF6\",\"width\":0.5},\"pattern\":{\"fillmode\":\"overlay\",\"size\":10,\"solidity\":0.2}},\"type\":\"barpolar\"}],\"pie\":[{\"automargin\":true,\"type\":\"pie\"}]},\"layout\":{\"autotypenumbers\":\"strict\",\"colorway\":[\"#636efa\",\"#EF553B\",\"#00cc96\",\"#ab63fa\",\"#FFA15A\",\"#19d3f3\",\"#FF6692\",\"#B6E880\",\"#FF97FF\",\"#FECB52\"],\"font\":{\"color\":\"#2a3f5f\"},\"hovermode\":\"closest\",\"hoverlabel\":{\"align\":\"left\"},\"paper_bgcolor\":\"white\",\"plot_bgcolor\":\"#E5ECF6\",\"polar\":{\"bgcolor\":\"#E5ECF6\",\"angularaxis\":{\"gridcolor\":\"white\",\"linecolor\":\"white\",\"ticks\":\"\"},\"radialaxis\":{\"gridcolor\":\"white\",\"linecolor\":\"white\",\"ticks\":\"\"}},\"ternary\":{\"bgcolor\":\"#E5ECF6\",\"aaxis\":{\"gridcolor\":\"white\",\"linecolor\":\"white\",\"ticks\":\"\"},\"baxis\":{\"gridcolor\":\"white\",\"linecolor\":\"white\",\"ticks\":\"\"},\"caxis\":{\"gridcolor\":\"white\",\"linecolor\":\"white\",\"ticks\":\"\"}},\"coloraxis\":{\"colorbar\":{\"outlinewidth\":0,\"ticks\":\"\"}},\"colorscale\":{\"sequential\":[[0.0,\"#0d0887\"],[0.1111111111111111,\"#46039f\"],[0.2222222222222222,\"#7201a8\"],[0.3333333333333333,\"#9c179e\"],[0.4444444444444444,\"#bd3786\"],[0.5555555555555556,\"#d8576b\"],[0.6666666666666666,\"#ed7953\"],[0.7777777777777778,\"#fb9f3a\"],[0.8888888888888888,\"#fdca26\"],[1.0,\"#f0f921\"]],\"sequentialminus\":[[0.0,\"#0d0887\"],[0.1111111111111111,\"#46039f\"],[0.2222222222222222,\"#7201a8\"],[0.3333333333333333,\"#9c179e\"],[0.4444444444444444,\"#bd3786\"],[0.5555555555555556,\"#d8576b\"],[0.6666666666666666,\"#ed7953\"],[0.7777777777777778,\"#fb9f3a\"],[0.8888888888888888,\"#fdca26\"],[1.0,\"#f0f921\"]],\"diverging\":[[0,\"#8e0152\"],[0.1,\"#c51b7d\"],[0.2,\"#de77ae\"],[0.3,\"#f1b6da\"],[0.4,\"#fde0ef\"],[0.5,\"#f7f7f7\"],[0.6,\"#e6f5d0\"],[0.7,\"#b8e186\"],[0.8,\"#7fbc41\"],[0.9,\"#4d9221\"],[1,\"#276419\"]]},\"xaxis\":{\"gridcolor\":\"white\",\"linecolor\":\"white\",\"ticks\":\"\",\"title\":{\"standoff\":15},\"zerolinecolor\":\"white\",\"automargin\":true,\"zerolinewidth\":2},\"yaxis\":{\"gridcolor\":\"white\",\"linecolor\":\"white\",\"ticks\":\"\",\"title\":{\"standoff\":15},\"zerolinecolor\":\"white\",\"automargin\":true,\"zerolinewidth\":2},\"scene\":{\"xaxis\":{\"backgroundcolor\":\"#E5ECF6\",\"gridcolor\":\"white\",\"linecolor\":\"white\",\"showbackground\":true,\"ticks\":\"\",\"zerolinecolor\":\"white\",\"gridwidth\":2},\"yaxis\":{\"backgroundcolor\":\"#E5ECF6\",\"gridcolor\":\"white\",\"linecolor\":\"white\",\"showbackground\":true,\"ticks\":\"\",\"zerolinecolor\":\"white\",\"gridwidth\":2},\"zaxis\":{\"backgroundcolor\":\"#E5ECF6\",\"gridcolor\":\"white\",\"linecolor\":\"white\",\"showbackground\":true,\"ticks\":\"\",\"zerolinecolor\":\"white\",\"gridwidth\":2}},\"shapedefaults\":{\"line\":{\"color\":\"#2a3f5f\"}},\"annotationdefaults\":{\"arrowcolor\":\"#2a3f5f\",\"arrowhead\":0,\"arrowwidth\":1},\"geo\":{\"bgcolor\":\"white\",\"landcolor\":\"#E5ECF6\",\"subunitcolor\":\"white\",\"showland\":true,\"showlakes\":true,\"lakecolor\":\"white\"},\"title\":{\"x\":0.05},\"mapbox\":{\"style\":\"light\"}}},\"annotations\":[{\"font\":{\"size\":16},\"showarrow\":false,\"text\":\"Gender Representation\",\"x\":0.225,\"xanchor\":\"center\",\"xref\":\"paper\",\"y\":1.0,\"yanchor\":\"bottom\",\"yref\":\"paper\"},{\"font\":{\"size\":16},\"showarrow\":false,\"text\":\"Age Group Distribution\",\"x\":0.775,\"xanchor\":\"center\",\"xref\":\"paper\",\"y\":1.0,\"yanchor\":\"bottom\",\"yref\":\"paper\"}],\"title\":{\"text\":\"Gender and Age Group Distribution\"},\"showlegend\":true},                        {\"responsive\": true}                    ).then(function(){\n",
              "                            \n",
              "var gd = document.getElementById('a0081d42-6372-470b-877e-0fc691d8a86a');\n",
              "var x = new MutationObserver(function (mutations, observer) {{\n",
              "        var display = window.getComputedStyle(gd).display;\n",
              "        if (!display || display === 'none') {{\n",
              "            console.log([gd, 'removed!']);\n",
              "            Plotly.purge(gd);\n",
              "            observer.disconnect();\n",
              "        }}\n",
              "}});\n",
              "\n",
              "// Listen for the removal of the full notebook cells\n",
              "var notebookContainer = gd.closest('#notebook-container');\n",
              "if (notebookContainer) {{\n",
              "    x.observe(notebookContainer, {childList: true});\n",
              "}}\n",
              "\n",
              "// Listen for the clearing of the current output cell\n",
              "var outputEl = gd.closest('.output');\n",
              "if (outputEl) {{\n",
              "    x.observe(outputEl, {childList: true});\n",
              "}}\n",
              "\n",
              "                        })                };                            </script>        </div>\n",
              "</body>\n",
              "</html>"
            ]
          },
          "metadata": {}
        }
      ]
    },
    {
      "cell_type": "markdown",
      "source": [
        "\n",
        "\n",
        "---\n",
        "\n",
        "### **EXPLORATORY DATA ANALYSIS**\n",
        "\n",
        "Family History and Treatment Proportion\n",
        "This analysis explores the relationship between family history and the likelihood of seeking mental health treatment, as well as the overall proportion of individuals seeking treatment. The data is visualized through two distinct charts: a bar chart that highlights the impact of family history on treatment decisions, and a pie chart illustrating the distribution of different treatment types chosen by individuals."
      ],
      "metadata": {
        "id": "S9OAN-tvny-b"
      }
    },
    {
      "cell_type": "code",
      "source": [
        "from plotly.subplots import make_subplots\n",
        "import plotly.graph_objects as go\n",
        "\n",
        "# Calculate data for the first bar chart (Family History Impact)\n",
        "family_treatment = data.groupby('family_history')['treatment'].value_counts(normalize=True).unstack().fillna(0)\n",
        "\n",
        "# Calculate data for the second pie chart (Proportion of Treatment)\n",
        "treatment_proportion = data['treatment'].value_counts(normalize=True) * 100\n",
        "\n",
        "# Create a subplot layout with 1 row and 2 columns\n",
        "fig = make_subplots(\n",
        "    rows=1, cols=2,\n",
        "    specs=[[{'type': 'bar'}, {'type': 'domain'}]],  # 'domain' is used for pie charts\n",
        "    subplot_titles=(\"Impact of Family History on Seeking Treatment\", \"Proportion of Treatment Seeking\")\n",
        ")\n",
        "\n",
        "# Color scheme for the bar chart\n",
        "bar_colors = ['#1f77b4', '#ff7f0e', '#2ca02c', '#d62728', '#9467bd']  # Customize as needed\n",
        "\n",
        "# Add bar chart for Family History Impact\n",
        "for i, treatment in enumerate(family_treatment.columns):\n",
        "    fig.add_trace(\n",
        "        go.Bar(\n",
        "            x=family_treatment.index,\n",
        "            y=family_treatment[treatment],\n",
        "            name=treatment,\n",
        "            marker=dict(color=bar_colors[i % len(bar_colors)])  # Apply the color scheme\n",
        "        ),\n",
        "        row=1, col=1\n",
        "    )\n",
        "\n",
        "# Color scheme for the pie chart\n",
        "pie_colors = ['#f39c12', '#e74c3c', '#3498db', '#2ecc71', '#9b59b6']  # Customize as needed\n",
        "\n",
        "# Add pie chart for Proportion of Treatment\n",
        "fig.add_trace(\n",
        "    go.Pie(\n",
        "        labels=treatment_proportion.index,\n",
        "        values=treatment_proportion,\n",
        "        hole=0.4,\n",
        "        name=\"Treatment Proportion\",\n",
        "        marker=dict(colors=pie_colors)  # Apply the color scheme\n",
        "    ),\n",
        "    row=1, col=2\n",
        ")\n",
        "\n",
        "# Update layout for better aesthetics and interactivity\n",
        "fig.update_layout(\n",
        "    title=\"Mental Health Treatment Analysis\",\n",
        "    title_x=0.5,  # Center align the title\n",
        "    barmode='group',  # Group bars in the bar chart\n",
        "    legend_title=\"Treatment\",\n",
        "    font=dict(size=12),\n",
        "    hovermode=\"x unified\"  # Interactive hover\n",
        ")\n",
        "\n",
        "# Show the figure\n",
        "fig.show()\n"
      ],
      "metadata": {
        "colab": {
          "base_uri": "https://localhost:8080/",
          "height": 542
        },
        "id": "ag2Jkw0Dq6iz",
        "outputId": "f2d8bee2-d7c3-49c6-9623-0c326282ac79"
      },
      "execution_count": 12,
      "outputs": [
        {
          "output_type": "display_data",
          "data": {
            "text/html": [
              "<html>\n",
              "<head><meta charset=\"utf-8\" /></head>\n",
              "<body>\n",
              "    <div>            <script src=\"https://cdnjs.cloudflare.com/ajax/libs/mathjax/2.7.5/MathJax.js?config=TeX-AMS-MML_SVG\"></script><script type=\"text/javascript\">if (window.MathJax && window.MathJax.Hub && window.MathJax.Hub.Config) {window.MathJax.Hub.Config({SVG: {font: \"STIX-Web\"}});}</script>                <script type=\"text/javascript\">window.PlotlyConfig = {MathJaxConfig: 'local'};</script>\n",
              "        <script charset=\"utf-8\" src=\"https://cdn.plot.ly/plotly-2.35.2.min.js\"></script>                <div id=\"51f9561a-a611-48de-b7ba-01842b1f8b2b\" class=\"plotly-graph-div\" style=\"height:525px; width:100%;\"></div>            <script type=\"text/javascript\">                                    window.PLOTLYENV=window.PLOTLYENV || {};                                    if (document.getElementById(\"51f9561a-a611-48de-b7ba-01842b1f8b2b\")) {                    Plotly.newPlot(                        \"51f9561a-a611-48de-b7ba-01842b1f8b2b\",                        [{\"marker\":{\"color\":\"#1f77b4\"},\"name\":\"No\",\"x\":[\"No\",\"Yes\"],\"y\":[0.6453715775749674,0.258130081300813],\"type\":\"bar\",\"xaxis\":\"x\",\"yaxis\":\"y\"},{\"marker\":{\"color\":\"#ff7f0e\"},\"name\":\"Yes\",\"x\":[\"No\",\"Yes\"],\"y\":[0.3546284224250326,0.741869918699187],\"type\":\"bar\",\"xaxis\":\"x\",\"yaxis\":\"y\"},{\"hole\":0.4,\"labels\":[\"Yes\",\"No\"],\"marker\":{\"colors\":[\"#f39c12\",\"#e74c3c\",\"#3498db\",\"#2ecc71\",\"#9b59b6\"]},\"name\":\"Treatment Proportion\",\"values\":[50.5957108816521,49.4042891183479],\"type\":\"pie\",\"domain\":{\"x\":[0.55,1.0],\"y\":[0.0,1.0]}}],                        {\"template\":{\"data\":{\"histogram2dcontour\":[{\"type\":\"histogram2dcontour\",\"colorbar\":{\"outlinewidth\":0,\"ticks\":\"\"},\"colorscale\":[[0.0,\"#0d0887\"],[0.1111111111111111,\"#46039f\"],[0.2222222222222222,\"#7201a8\"],[0.3333333333333333,\"#9c179e\"],[0.4444444444444444,\"#bd3786\"],[0.5555555555555556,\"#d8576b\"],[0.6666666666666666,\"#ed7953\"],[0.7777777777777778,\"#fb9f3a\"],[0.8888888888888888,\"#fdca26\"],[1.0,\"#f0f921\"]]}],\"choropleth\":[{\"type\":\"choropleth\",\"colorbar\":{\"outlinewidth\":0,\"ticks\":\"\"}}],\"histogram2d\":[{\"type\":\"histogram2d\",\"colorbar\":{\"outlinewidth\":0,\"ticks\":\"\"},\"colorscale\":[[0.0,\"#0d0887\"],[0.1111111111111111,\"#46039f\"],[0.2222222222222222,\"#7201a8\"],[0.3333333333333333,\"#9c179e\"],[0.4444444444444444,\"#bd3786\"],[0.5555555555555556,\"#d8576b\"],[0.6666666666666666,\"#ed7953\"],[0.7777777777777778,\"#fb9f3a\"],[0.8888888888888888,\"#fdca26\"],[1.0,\"#f0f921\"]]}],\"heatmap\":[{\"type\":\"heatmap\",\"colorbar\":{\"outlinewidth\":0,\"ticks\":\"\"},\"colorscale\":[[0.0,\"#0d0887\"],[0.1111111111111111,\"#46039f\"],[0.2222222222222222,\"#7201a8\"],[0.3333333333333333,\"#9c179e\"],[0.4444444444444444,\"#bd3786\"],[0.5555555555555556,\"#d8576b\"],[0.6666666666666666,\"#ed7953\"],[0.7777777777777778,\"#fb9f3a\"],[0.8888888888888888,\"#fdca26\"],[1.0,\"#f0f921\"]]}],\"heatmapgl\":[{\"type\":\"heatmapgl\",\"colorbar\":{\"outlinewidth\":0,\"ticks\":\"\"},\"colorscale\":[[0.0,\"#0d0887\"],[0.1111111111111111,\"#46039f\"],[0.2222222222222222,\"#7201a8\"],[0.3333333333333333,\"#9c179e\"],[0.4444444444444444,\"#bd3786\"],[0.5555555555555556,\"#d8576b\"],[0.6666666666666666,\"#ed7953\"],[0.7777777777777778,\"#fb9f3a\"],[0.8888888888888888,\"#fdca26\"],[1.0,\"#f0f921\"]]}],\"contourcarpet\":[{\"type\":\"contourcarpet\",\"colorbar\":{\"outlinewidth\":0,\"ticks\":\"\"}}],\"contour\":[{\"type\":\"contour\",\"colorbar\":{\"outlinewidth\":0,\"ticks\":\"\"},\"colorscale\":[[0.0,\"#0d0887\"],[0.1111111111111111,\"#46039f\"],[0.2222222222222222,\"#7201a8\"],[0.3333333333333333,\"#9c179e\"],[0.4444444444444444,\"#bd3786\"],[0.5555555555555556,\"#d8576b\"],[0.6666666666666666,\"#ed7953\"],[0.7777777777777778,\"#fb9f3a\"],[0.8888888888888888,\"#fdca26\"],[1.0,\"#f0f921\"]]}],\"surface\":[{\"type\":\"surface\",\"colorbar\":{\"outlinewidth\":0,\"ticks\":\"\"},\"colorscale\":[[0.0,\"#0d0887\"],[0.1111111111111111,\"#46039f\"],[0.2222222222222222,\"#7201a8\"],[0.3333333333333333,\"#9c179e\"],[0.4444444444444444,\"#bd3786\"],[0.5555555555555556,\"#d8576b\"],[0.6666666666666666,\"#ed7953\"],[0.7777777777777778,\"#fb9f3a\"],[0.8888888888888888,\"#fdca26\"],[1.0,\"#f0f921\"]]}],\"mesh3d\":[{\"type\":\"mesh3d\",\"colorbar\":{\"outlinewidth\":0,\"ticks\":\"\"}}],\"scatter\":[{\"fillpattern\":{\"fillmode\":\"overlay\",\"size\":10,\"solidity\":0.2},\"type\":\"scatter\"}],\"parcoords\":[{\"type\":\"parcoords\",\"line\":{\"colorbar\":{\"outlinewidth\":0,\"ticks\":\"\"}}}],\"scatterpolargl\":[{\"type\":\"scatterpolargl\",\"marker\":{\"colorbar\":{\"outlinewidth\":0,\"ticks\":\"\"}}}],\"bar\":[{\"error_x\":{\"color\":\"#2a3f5f\"},\"error_y\":{\"color\":\"#2a3f5f\"},\"marker\":{\"line\":{\"color\":\"#E5ECF6\",\"width\":0.5},\"pattern\":{\"fillmode\":\"overlay\",\"size\":10,\"solidity\":0.2}},\"type\":\"bar\"}],\"scattergeo\":[{\"type\":\"scattergeo\",\"marker\":{\"colorbar\":{\"outlinewidth\":0,\"ticks\":\"\"}}}],\"scatterpolar\":[{\"type\":\"scatterpolar\",\"marker\":{\"colorbar\":{\"outlinewidth\":0,\"ticks\":\"\"}}}],\"histogram\":[{\"marker\":{\"pattern\":{\"fillmode\":\"overlay\",\"size\":10,\"solidity\":0.2}},\"type\":\"histogram\"}],\"scattergl\":[{\"type\":\"scattergl\",\"marker\":{\"colorbar\":{\"outlinewidth\":0,\"ticks\":\"\"}}}],\"scatter3d\":[{\"type\":\"scatter3d\",\"line\":{\"colorbar\":{\"outlinewidth\":0,\"ticks\":\"\"}},\"marker\":{\"colorbar\":{\"outlinewidth\":0,\"ticks\":\"\"}}}],\"scattermapbox\":[{\"type\":\"scattermapbox\",\"marker\":{\"colorbar\":{\"outlinewidth\":0,\"ticks\":\"\"}}}],\"scatterternary\":[{\"type\":\"scatterternary\",\"marker\":{\"colorbar\":{\"outlinewidth\":0,\"ticks\":\"\"}}}],\"scattercarpet\":[{\"type\":\"scattercarpet\",\"marker\":{\"colorbar\":{\"outlinewidth\":0,\"ticks\":\"\"}}}],\"carpet\":[{\"aaxis\":{\"endlinecolor\":\"#2a3f5f\",\"gridcolor\":\"white\",\"linecolor\":\"white\",\"minorgridcolor\":\"white\",\"startlinecolor\":\"#2a3f5f\"},\"baxis\":{\"endlinecolor\":\"#2a3f5f\",\"gridcolor\":\"white\",\"linecolor\":\"white\",\"minorgridcolor\":\"white\",\"startlinecolor\":\"#2a3f5f\"},\"type\":\"carpet\"}],\"table\":[{\"cells\":{\"fill\":{\"color\":\"#EBF0F8\"},\"line\":{\"color\":\"white\"}},\"header\":{\"fill\":{\"color\":\"#C8D4E3\"},\"line\":{\"color\":\"white\"}},\"type\":\"table\"}],\"barpolar\":[{\"marker\":{\"line\":{\"color\":\"#E5ECF6\",\"width\":0.5},\"pattern\":{\"fillmode\":\"overlay\",\"size\":10,\"solidity\":0.2}},\"type\":\"barpolar\"}],\"pie\":[{\"automargin\":true,\"type\":\"pie\"}]},\"layout\":{\"autotypenumbers\":\"strict\",\"colorway\":[\"#636efa\",\"#EF553B\",\"#00cc96\",\"#ab63fa\",\"#FFA15A\",\"#19d3f3\",\"#FF6692\",\"#B6E880\",\"#FF97FF\",\"#FECB52\"],\"font\":{\"color\":\"#2a3f5f\"},\"hovermode\":\"closest\",\"hoverlabel\":{\"align\":\"left\"},\"paper_bgcolor\":\"white\",\"plot_bgcolor\":\"#E5ECF6\",\"polar\":{\"bgcolor\":\"#E5ECF6\",\"angularaxis\":{\"gridcolor\":\"white\",\"linecolor\":\"white\",\"ticks\":\"\"},\"radialaxis\":{\"gridcolor\":\"white\",\"linecolor\":\"white\",\"ticks\":\"\"}},\"ternary\":{\"bgcolor\":\"#E5ECF6\",\"aaxis\":{\"gridcolor\":\"white\",\"linecolor\":\"white\",\"ticks\":\"\"},\"baxis\":{\"gridcolor\":\"white\",\"linecolor\":\"white\",\"ticks\":\"\"},\"caxis\":{\"gridcolor\":\"white\",\"linecolor\":\"white\",\"ticks\":\"\"}},\"coloraxis\":{\"colorbar\":{\"outlinewidth\":0,\"ticks\":\"\"}},\"colorscale\":{\"sequential\":[[0.0,\"#0d0887\"],[0.1111111111111111,\"#46039f\"],[0.2222222222222222,\"#7201a8\"],[0.3333333333333333,\"#9c179e\"],[0.4444444444444444,\"#bd3786\"],[0.5555555555555556,\"#d8576b\"],[0.6666666666666666,\"#ed7953\"],[0.7777777777777778,\"#fb9f3a\"],[0.8888888888888888,\"#fdca26\"],[1.0,\"#f0f921\"]],\"sequentialminus\":[[0.0,\"#0d0887\"],[0.1111111111111111,\"#46039f\"],[0.2222222222222222,\"#7201a8\"],[0.3333333333333333,\"#9c179e\"],[0.4444444444444444,\"#bd3786\"],[0.5555555555555556,\"#d8576b\"],[0.6666666666666666,\"#ed7953\"],[0.7777777777777778,\"#fb9f3a\"],[0.8888888888888888,\"#fdca26\"],[1.0,\"#f0f921\"]],\"diverging\":[[0,\"#8e0152\"],[0.1,\"#c51b7d\"],[0.2,\"#de77ae\"],[0.3,\"#f1b6da\"],[0.4,\"#fde0ef\"],[0.5,\"#f7f7f7\"],[0.6,\"#e6f5d0\"],[0.7,\"#b8e186\"],[0.8,\"#7fbc41\"],[0.9,\"#4d9221\"],[1,\"#276419\"]]},\"xaxis\":{\"gridcolor\":\"white\",\"linecolor\":\"white\",\"ticks\":\"\",\"title\":{\"standoff\":15},\"zerolinecolor\":\"white\",\"automargin\":true,\"zerolinewidth\":2},\"yaxis\":{\"gridcolor\":\"white\",\"linecolor\":\"white\",\"ticks\":\"\",\"title\":{\"standoff\":15},\"zerolinecolor\":\"white\",\"automargin\":true,\"zerolinewidth\":2},\"scene\":{\"xaxis\":{\"backgroundcolor\":\"#E5ECF6\",\"gridcolor\":\"white\",\"linecolor\":\"white\",\"showbackground\":true,\"ticks\":\"\",\"zerolinecolor\":\"white\",\"gridwidth\":2},\"yaxis\":{\"backgroundcolor\":\"#E5ECF6\",\"gridcolor\":\"white\",\"linecolor\":\"white\",\"showbackground\":true,\"ticks\":\"\",\"zerolinecolor\":\"white\",\"gridwidth\":2},\"zaxis\":{\"backgroundcolor\":\"#E5ECF6\",\"gridcolor\":\"white\",\"linecolor\":\"white\",\"showbackground\":true,\"ticks\":\"\",\"zerolinecolor\":\"white\",\"gridwidth\":2}},\"shapedefaults\":{\"line\":{\"color\":\"#2a3f5f\"}},\"annotationdefaults\":{\"arrowcolor\":\"#2a3f5f\",\"arrowhead\":0,\"arrowwidth\":1},\"geo\":{\"bgcolor\":\"white\",\"landcolor\":\"#E5ECF6\",\"subunitcolor\":\"white\",\"showland\":true,\"showlakes\":true,\"lakecolor\":\"white\"},\"title\":{\"x\":0.05},\"mapbox\":{\"style\":\"light\"}}},\"xaxis\":{\"anchor\":\"y\",\"domain\":[0.0,0.45]},\"yaxis\":{\"anchor\":\"x\",\"domain\":[0.0,1.0]},\"annotations\":[{\"font\":{\"size\":16},\"showarrow\":false,\"text\":\"Impact of Family History on Seeking Treatment\",\"x\":0.225,\"xanchor\":\"center\",\"xref\":\"paper\",\"y\":1.0,\"yanchor\":\"bottom\",\"yref\":\"paper\"},{\"font\":{\"size\":16},\"showarrow\":false,\"text\":\"Proportion of Treatment Seeking\",\"x\":0.775,\"xanchor\":\"center\",\"xref\":\"paper\",\"y\":1.0,\"yanchor\":\"bottom\",\"yref\":\"paper\"}],\"title\":{\"text\":\"Mental Health Treatment Analysis\",\"x\":0.5},\"font\":{\"size\":12},\"barmode\":\"group\",\"legend\":{\"title\":{\"text\":\"Treatment\"}},\"hovermode\":\"x unified\"},                        {\"responsive\": true}                    ).then(function(){\n",
              "                            \n",
              "var gd = document.getElementById('51f9561a-a611-48de-b7ba-01842b1f8b2b');\n",
              "var x = new MutationObserver(function (mutations, observer) {{\n",
              "        var display = window.getComputedStyle(gd).display;\n",
              "        if (!display || display === 'none') {{\n",
              "            console.log([gd, 'removed!']);\n",
              "            Plotly.purge(gd);\n",
              "            observer.disconnect();\n",
              "        }}\n",
              "}});\n",
              "\n",
              "// Listen for the removal of the full notebook cells\n",
              "var notebookContainer = gd.closest('#notebook-container');\n",
              "if (notebookContainer) {{\n",
              "    x.observe(notebookContainer, {childList: true});\n",
              "}}\n",
              "\n",
              "// Listen for the clearing of the current output cell\n",
              "var outputEl = gd.closest('.output');\n",
              "if (outputEl) {{\n",
              "    x.observe(outputEl, {childList: true});\n",
              "}}\n",
              "\n",
              "                        })                };                            </script>        </div>\n",
              "</body>\n",
              "</html>"
            ]
          },
          "metadata": {}
        }
      ]
    },
    {
      "cell_type": "markdown",
      "source": [
        "### **Key Findings:**\n",
        "\n",
        "\n",
        "\n",
        "\n",
        "1.   Impact of Family History on Seeking Treatment: The bar chart reveals that individuals with a family history of mental health issues are more likely to seek treatment compared to those without such a history. However, the treatment decision varies by other factors, and the data shows a nuanced picture of how family history influences mental health care choices.\n",
        "\n",
        "2.   Proportion of Treatment: The pie chart provides insights into the proportion of individuals who opt for various types of mental health treatment. This breakdown helps to understand the preferences in treatment choices, whether it is medication, therapy, or other forms of mental health care.\n",
        "\n",
        "\n",
        "\n",
        "\n",
        "---\n",
        "\n"
      ],
      "metadata": {
        "id": "LP-Q0d5Sugh1"
      }
    },
    {
      "cell_type": "markdown",
      "source": [
        "### **Description of the analysation related to workplace mental health benefits, wellness programs, and employee support for mental health treatment**\n",
        "This analysis explores several aspects related to workplace mental health benefits, wellness programs, and employee support for mental health treatment. The data focuses on respondents' access to mental health benefits, their encouragement to seek treatment, the effectiveness of wellness programs, and the ease of taking mental health leave.\n",
        "\n",
        "**Proportion of Respondents with Mental Health Benefits:**\n",
        "\n",
        "The first part analyzes the availability of mental health benefits in the workplace, categorizing responses as \"Yes\" or \"No.\" This data is represented through an interactive pie chart, providing an overview of the proportion of employees who have access to mental health benefits.\n",
        "\n",
        "**Does the Presence of Benefits Encourage Seeking Treatment?:**\n",
        "\n",
        "The second part investigates whether having mental health benefits in place encourages employees to seek treatment. This is displayed in a grouped bar chart, breaking down responses based on the presence of mental health benefits and employees' willingness to seek help.\n",
        "\n",
        "**Wellness Programs and Mental Health Care Options:**\n",
        "\n",
        "The third part examines the effectiveness of wellness programs and mental health care options in workplaces. It looks at how the availability of these options impacts employee engagement with mental health care services. This data is shown in a grouped bar chart, which compares wellness programs to care options.\n",
        "\n",
        "**Ease of Taking Mental Health Leave:**\n",
        "\n",
        "The final part evaluates how comfortable employees are with taking mental health leave. An interactive pie chart illustrates the ease or difficulty of taking mental health leave based on employee responses."
      ],
      "metadata": {
        "id": "jFp31AnzI2dh"
      }
    },
    {
      "cell_type": "code",
      "source": [
        "import pandas as pd\n",
        "import plotly.express as px\n",
        "from plotly.subplots import make_subplots\n",
        "import plotly.graph_objects as go\n",
        "\n",
        "# Create a subplot grid (2 rows, 2 columns) and specify the pie chart type for (1,1) and (2,2)\n",
        "fig = make_subplots(\n",
        "    rows=2, cols=2,\n",
        "    subplot_titles=[\n",
        "        'Availability of Mental Health Benefits',\n",
        "        'Does the Presence of Mental Health Benefits Encourage Seeking Help?',\n",
        "        'Effectiveness of Wellness Programs and Mental Health Care Options',\n",
        "        'Ease of Taking Mental Health Leave'\n",
        "    ],\n",
        "    specs=[[{'type': 'pie'}, {'type': 'xy'}], [{'type': 'xy'}, {'type': 'pie'}]]\n",
        ")\n",
        "\n",
        "# --------- 1. Proportion of Respondents with Mental Health Benefits ---------\n",
        "if 'benefits' in data.columns:\n",
        "    # Count the responses for mental health benefits\n",
        "    benefits_counts = data['benefits'].value_counts().reset_index(name='count')\n",
        "    benefits_counts.columns = ['benefits', 'Count']\n",
        "\n",
        "    # Create a pie chart for the availability of mental health benefits\n",
        "    pie_fig = px.pie(benefits_counts, names='benefits', values='Count', color='benefits',\n",
        "                     color_discrete_map={'Yes': 'lightgreen', 'No': 'lightcoral'})\n",
        "    pie_fig.update_traces(textinfo='percent+label', hole=0.3)\n",
        "\n",
        "    # Add pie chart to the subplot (row 1, col 1)\n",
        "    for trace in pie_fig.data:\n",
        "        fig.add_trace(trace, row=1, col=1)\n",
        "\n",
        "# --------- 2. Does the Presence of Benefits Encourage Seeking Treatment ---------\n",
        "if 'benefits' in data.columns and 'seek_help' in data.columns:\n",
        "    # Count the responses for seeking help based on benefits\n",
        "    benefits_seek_help_counts = data.groupby(['benefits', 'seek_help']).size().reset_index(name='count')\n",
        "\n",
        "    # Create a bar chart for encouragement to seek help based on mental health benefits\n",
        "    bar_fig = px.bar(benefits_seek_help_counts, x='benefits', y='count', color='seek_help',\n",
        "                     title='Does the Presence of Mental Health Benefits Encourage Seeking Help?',\n",
        "                     labels={'benefits': 'Mental Health Benefits', 'seek_help': 'Encourages Seeking Help', 'count': 'Number of People'},\n",
        "                     barmode='group')\n",
        "\n",
        "    # Add bar chart to the subplot (row 1, col 2)\n",
        "    for trace in bar_fig.data:\n",
        "        fig.add_trace(trace, row=1, col=2)\n",
        "\n",
        "# --------- 3. Wellness Programs and Care Options ---------\n",
        "if 'wellness_program' in data.columns and 'care_options' in data.columns:\n",
        "    # Count the responses for wellness programs and care options\n",
        "    wellness_care_counts = data.groupby(['wellness_program', 'care_options']).size().reset_index(name='count')\n",
        "\n",
        "    # Create a bar chart for the effectiveness of wellness programs and care options\n",
        "    bar_fig = px.bar(wellness_care_counts, x='wellness_program', y='count', color='care_options',\n",
        "                     title='Effectiveness of Wellness Programs and Mental Health Care Options',\n",
        "                     labels={'wellness_program': 'Wellness Program', 'care_options': 'Mental Health Care Options', 'count': 'Number of People'},\n",
        "                     barmode='group')\n",
        "\n",
        "    # Add bar chart to the subplot (row 2, col 1)\n",
        "    for trace in bar_fig.data:\n",
        "        fig.add_trace(trace, row=2, col=1)\n",
        "\n",
        "# --------- 4. Ease of Taking Mental Health Leave ---------\n",
        "if 'leave' in data.columns:\n",
        "    # Count the responses for the ease of taking mental health leave\n",
        "    leave_counts = data['leave'].value_counts().reset_index(name='count')\n",
        "    leave_counts.columns = ['Ease of Taking Leave', 'Count']\n",
        "\n",
        "    # Create an interactive pie chart for the ease of taking mental health leave\n",
        "    pie_fig = px.pie(leave_counts, names='Ease of Taking Leave', values='Count', title='Ease of Taking Mental Health Leave')\n",
        "    pie_fig.update_traces(textinfo='percent+label', hole=0.3)  # To add percentage and label in the pie chart\n",
        "\n",
        "    # Add pie chart to the subplot (row 2, col 2)\n",
        "    for trace in pie_fig.data:\n",
        "        fig.add_trace(trace, row=2, col=2)\n",
        "\n",
        "# Update layout and show the final grid\n",
        "fig.update_layout(\n",
        "    title_text=\"Mental Health Survey Results\",\n",
        "    showlegend=False,  # Optionally hide the legend if it's not needed\n",
        "    height=800,  # Adjust height to fit all graphs\n",
        "    width=1400,  # Adjust width for a better layout\n",
        ")\n",
        "\n",
        "fig.show()\n"
      ],
      "metadata": {
        "id": "QZcg0iKdsj9P",
        "colab": {
          "base_uri": "https://localhost:8080/",
          "height": 837
        },
        "outputId": "28b7d4cf-4477-4b60-a772-a93258f872c8"
      },
      "execution_count": 13,
      "outputs": [
        {
          "output_type": "display_data",
          "data": {
            "text/html": [
              "<html>\n",
              "<head><meta charset=\"utf-8\" /></head>\n",
              "<body>\n",
              "    <div>            <script src=\"https://cdnjs.cloudflare.com/ajax/libs/mathjax/2.7.5/MathJax.js?config=TeX-AMS-MML_SVG\"></script><script type=\"text/javascript\">if (window.MathJax && window.MathJax.Hub && window.MathJax.Hub.Config) {window.MathJax.Hub.Config({SVG: {font: \"STIX-Web\"}});}</script>                <script type=\"text/javascript\">window.PlotlyConfig = {MathJaxConfig: 'local'};</script>\n",
              "        <script charset=\"utf-8\" src=\"https://cdn.plot.ly/plotly-2.35.2.min.js\"></script>                <div id=\"fecca394-794d-442c-bd74-84566348c6de\" class=\"plotly-graph-div\" style=\"height:800px; width:1400px;\"></div>            <script type=\"text/javascript\">                                    window.PLOTLYENV=window.PLOTLYENV || {};                                    if (document.getElementById(\"fecca394-794d-442c-bd74-84566348c6de\")) {                    Plotly.newPlot(                        \"fecca394-794d-442c-bd74-84566348c6de\",                        [{\"customdata\":[[\"Yes\"],[\"Don't know\"],[\"No\"]],\"domain\":{\"x\":[0.0,0.45],\"y\":[0.625,1.0]},\"hole\":0.3,\"hovertemplate\":\"benefits=%{customdata[0]}\\u003cbr\\u003eCount=%{value}\\u003cextra\\u003e\\u003c\\u002fextra\\u003e\",\"labels\":[\"Yes\",\"Don't know\",\"No\"],\"legendgroup\":\"\",\"marker\":{\"colors\":[\"lightgreen\",\"#00cc96\",\"lightcoral\"]},\"name\":\"\",\"showlegend\":true,\"textinfo\":\"percent+label\",\"values\":[477,408,374],\"type\":\"pie\"},{\"alignmentgroup\":\"True\",\"hovertemplate\":\"Encourages Seeking Help=Don't know\\u003cbr\\u003eMental Health Benefits=%{x}\\u003cbr\\u003eNumber of People=%{y}\\u003cextra\\u003e\\u003c\\u002fextra\\u003e\",\"legendgroup\":\"Don't know\",\"marker\":{\"color\":\"#636efa\",\"pattern\":{\"shape\":\"\"}},\"name\":\"Don't know\",\"offsetgroup\":\"Don't know\",\"orientation\":\"v\",\"showlegend\":true,\"textposition\":\"auto\",\"x\":[\"Don't know\",\"No\",\"Yes\"],\"xaxis\":\"x\",\"y\":[213,23,127],\"yaxis\":\"y\",\"type\":\"bar\"},{\"alignmentgroup\":\"True\",\"hovertemplate\":\"Encourages Seeking Help=No\\u003cbr\\u003eMental Health Benefits=%{x}\\u003cbr\\u003eNumber of People=%{y}\\u003cextra\\u003e\\u003c\\u002fextra\\u003e\",\"legendgroup\":\"No\",\"marker\":{\"color\":\"#EF553B\",\"pattern\":{\"shape\":\"\"}},\"name\":\"No\",\"offsetgroup\":\"No\",\"orientation\":\"v\",\"showlegend\":true,\"textposition\":\"auto\",\"x\":[\"Don't know\",\"No\",\"Yes\"],\"xaxis\":\"x\",\"y\":[174,327,145],\"yaxis\":\"y\",\"type\":\"bar\"},{\"alignmentgroup\":\"True\",\"hovertemplate\":\"Encourages Seeking Help=Yes\\u003cbr\\u003eMental Health Benefits=%{x}\\u003cbr\\u003eNumber of People=%{y}\\u003cextra\\u003e\\u003c\\u002fextra\\u003e\",\"legendgroup\":\"Yes\",\"marker\":{\"color\":\"#00cc96\",\"pattern\":{\"shape\":\"\"}},\"name\":\"Yes\",\"offsetgroup\":\"Yes\",\"orientation\":\"v\",\"showlegend\":true,\"textposition\":\"auto\",\"x\":[\"Don't know\",\"No\",\"Yes\"],\"xaxis\":\"x\",\"y\":[21,24,205],\"yaxis\":\"y\",\"type\":\"bar\"},{\"alignmentgroup\":\"True\",\"hovertemplate\":\"Mental Health Care Options=No\\u003cbr\\u003eWellness Program=%{x}\\u003cbr\\u003eNumber of People=%{y}\\u003cextra\\u003e\\u003c\\u002fextra\\u003e\",\"legendgroup\":\"No\",\"marker\":{\"color\":\"#636efa\",\"pattern\":{\"shape\":\"\"}},\"name\":\"No\",\"offsetgroup\":\"No\",\"orientation\":\"v\",\"showlegend\":true,\"textposition\":\"auto\",\"x\":[\"Don't know\",\"No\",\"Yes\"],\"xaxis\":\"x2\",\"y\":[51,414,36],\"yaxis\":\"y2\",\"type\":\"bar\"},{\"alignmentgroup\":\"True\",\"hovertemplate\":\"Mental Health Care Options=Not sure\\u003cbr\\u003eWellness Program=%{x}\\u003cbr\\u003eNumber of People=%{y}\\u003cextra\\u003e\\u003c\\u002fextra\\u003e\",\"legendgroup\":\"Not sure\",\"marker\":{\"color\":\"#EF553B\",\"pattern\":{\"shape\":\"\"}},\"name\":\"Not sure\",\"offsetgroup\":\"Not sure\",\"orientation\":\"v\",\"showlegend\":true,\"textposition\":\"auto\",\"x\":[\"Don't know\",\"No\",\"Yes\"],\"xaxis\":\"x2\",\"y\":[100,173,41],\"yaxis\":\"y2\",\"type\":\"bar\"},{\"alignmentgroup\":\"True\",\"hovertemplate\":\"Mental Health Care Options=Yes\\u003cbr\\u003eWellness Program=%{x}\\u003cbr\\u003eNumber of People=%{y}\\u003cextra\\u003e\\u003c\\u002fextra\\u003e\",\"legendgroup\":\"Yes\",\"marker\":{\"color\":\"#00cc96\",\"pattern\":{\"shape\":\"\"}},\"name\":\"Yes\",\"offsetgroup\":\"Yes\",\"orientation\":\"v\",\"showlegend\":true,\"textposition\":\"auto\",\"x\":[\"Don't know\",\"No\",\"Yes\"],\"xaxis\":\"x2\",\"y\":[37,255,152],\"yaxis\":\"y2\",\"type\":\"bar\"},{\"domain\":{\"x\":[0.55,1.0],\"y\":[0.0,0.375]},\"hole\":0.3,\"hovertemplate\":\"Ease of Taking Leave=%{label}\\u003cbr\\u003eCount=%{value}\\u003cextra\\u003e\\u003c\\u002fextra\\u003e\",\"labels\":[\"Don't know\",\"Somewhat easy\",\"Very easy\",\"Somewhat difficult\",\"Very difficult\"],\"legendgroup\":\"\",\"name\":\"\",\"showlegend\":true,\"textinfo\":\"percent+label\",\"values\":[563,266,206,126,98],\"type\":\"pie\"}],                        {\"template\":{\"data\":{\"histogram2dcontour\":[{\"type\":\"histogram2dcontour\",\"colorbar\":{\"outlinewidth\":0,\"ticks\":\"\"},\"colorscale\":[[0.0,\"#0d0887\"],[0.1111111111111111,\"#46039f\"],[0.2222222222222222,\"#7201a8\"],[0.3333333333333333,\"#9c179e\"],[0.4444444444444444,\"#bd3786\"],[0.5555555555555556,\"#d8576b\"],[0.6666666666666666,\"#ed7953\"],[0.7777777777777778,\"#fb9f3a\"],[0.8888888888888888,\"#fdca26\"],[1.0,\"#f0f921\"]]}],\"choropleth\":[{\"type\":\"choropleth\",\"colorbar\":{\"outlinewidth\":0,\"ticks\":\"\"}}],\"histogram2d\":[{\"type\":\"histogram2d\",\"colorbar\":{\"outlinewidth\":0,\"ticks\":\"\"},\"colorscale\":[[0.0,\"#0d0887\"],[0.1111111111111111,\"#46039f\"],[0.2222222222222222,\"#7201a8\"],[0.3333333333333333,\"#9c179e\"],[0.4444444444444444,\"#bd3786\"],[0.5555555555555556,\"#d8576b\"],[0.6666666666666666,\"#ed7953\"],[0.7777777777777778,\"#fb9f3a\"],[0.8888888888888888,\"#fdca26\"],[1.0,\"#f0f921\"]]}],\"heatmap\":[{\"type\":\"heatmap\",\"colorbar\":{\"outlinewidth\":0,\"ticks\":\"\"},\"colorscale\":[[0.0,\"#0d0887\"],[0.1111111111111111,\"#46039f\"],[0.2222222222222222,\"#7201a8\"],[0.3333333333333333,\"#9c179e\"],[0.4444444444444444,\"#bd3786\"],[0.5555555555555556,\"#d8576b\"],[0.6666666666666666,\"#ed7953\"],[0.7777777777777778,\"#fb9f3a\"],[0.8888888888888888,\"#fdca26\"],[1.0,\"#f0f921\"]]}],\"heatmapgl\":[{\"type\":\"heatmapgl\",\"colorbar\":{\"outlinewidth\":0,\"ticks\":\"\"},\"colorscale\":[[0.0,\"#0d0887\"],[0.1111111111111111,\"#46039f\"],[0.2222222222222222,\"#7201a8\"],[0.3333333333333333,\"#9c179e\"],[0.4444444444444444,\"#bd3786\"],[0.5555555555555556,\"#d8576b\"],[0.6666666666666666,\"#ed7953\"],[0.7777777777777778,\"#fb9f3a\"],[0.8888888888888888,\"#fdca26\"],[1.0,\"#f0f921\"]]}],\"contourcarpet\":[{\"type\":\"contourcarpet\",\"colorbar\":{\"outlinewidth\":0,\"ticks\":\"\"}}],\"contour\":[{\"type\":\"contour\",\"colorbar\":{\"outlinewidth\":0,\"ticks\":\"\"},\"colorscale\":[[0.0,\"#0d0887\"],[0.1111111111111111,\"#46039f\"],[0.2222222222222222,\"#7201a8\"],[0.3333333333333333,\"#9c179e\"],[0.4444444444444444,\"#bd3786\"],[0.5555555555555556,\"#d8576b\"],[0.6666666666666666,\"#ed7953\"],[0.7777777777777778,\"#fb9f3a\"],[0.8888888888888888,\"#fdca26\"],[1.0,\"#f0f921\"]]}],\"surface\":[{\"type\":\"surface\",\"colorbar\":{\"outlinewidth\":0,\"ticks\":\"\"},\"colorscale\":[[0.0,\"#0d0887\"],[0.1111111111111111,\"#46039f\"],[0.2222222222222222,\"#7201a8\"],[0.3333333333333333,\"#9c179e\"],[0.4444444444444444,\"#bd3786\"],[0.5555555555555556,\"#d8576b\"],[0.6666666666666666,\"#ed7953\"],[0.7777777777777778,\"#fb9f3a\"],[0.8888888888888888,\"#fdca26\"],[1.0,\"#f0f921\"]]}],\"mesh3d\":[{\"type\":\"mesh3d\",\"colorbar\":{\"outlinewidth\":0,\"ticks\":\"\"}}],\"scatter\":[{\"fillpattern\":{\"fillmode\":\"overlay\",\"size\":10,\"solidity\":0.2},\"type\":\"scatter\"}],\"parcoords\":[{\"type\":\"parcoords\",\"line\":{\"colorbar\":{\"outlinewidth\":0,\"ticks\":\"\"}}}],\"scatterpolargl\":[{\"type\":\"scatterpolargl\",\"marker\":{\"colorbar\":{\"outlinewidth\":0,\"ticks\":\"\"}}}],\"bar\":[{\"error_x\":{\"color\":\"#2a3f5f\"},\"error_y\":{\"color\":\"#2a3f5f\"},\"marker\":{\"line\":{\"color\":\"#E5ECF6\",\"width\":0.5},\"pattern\":{\"fillmode\":\"overlay\",\"size\":10,\"solidity\":0.2}},\"type\":\"bar\"}],\"scattergeo\":[{\"type\":\"scattergeo\",\"marker\":{\"colorbar\":{\"outlinewidth\":0,\"ticks\":\"\"}}}],\"scatterpolar\":[{\"type\":\"scatterpolar\",\"marker\":{\"colorbar\":{\"outlinewidth\":0,\"ticks\":\"\"}}}],\"histogram\":[{\"marker\":{\"pattern\":{\"fillmode\":\"overlay\",\"size\":10,\"solidity\":0.2}},\"type\":\"histogram\"}],\"scattergl\":[{\"type\":\"scattergl\",\"marker\":{\"colorbar\":{\"outlinewidth\":0,\"ticks\":\"\"}}}],\"scatter3d\":[{\"type\":\"scatter3d\",\"line\":{\"colorbar\":{\"outlinewidth\":0,\"ticks\":\"\"}},\"marker\":{\"colorbar\":{\"outlinewidth\":0,\"ticks\":\"\"}}}],\"scattermapbox\":[{\"type\":\"scattermapbox\",\"marker\":{\"colorbar\":{\"outlinewidth\":0,\"ticks\":\"\"}}}],\"scatterternary\":[{\"type\":\"scatterternary\",\"marker\":{\"colorbar\":{\"outlinewidth\":0,\"ticks\":\"\"}}}],\"scattercarpet\":[{\"type\":\"scattercarpet\",\"marker\":{\"colorbar\":{\"outlinewidth\":0,\"ticks\":\"\"}}}],\"carpet\":[{\"aaxis\":{\"endlinecolor\":\"#2a3f5f\",\"gridcolor\":\"white\",\"linecolor\":\"white\",\"minorgridcolor\":\"white\",\"startlinecolor\":\"#2a3f5f\"},\"baxis\":{\"endlinecolor\":\"#2a3f5f\",\"gridcolor\":\"white\",\"linecolor\":\"white\",\"minorgridcolor\":\"white\",\"startlinecolor\":\"#2a3f5f\"},\"type\":\"carpet\"}],\"table\":[{\"cells\":{\"fill\":{\"color\":\"#EBF0F8\"},\"line\":{\"color\":\"white\"}},\"header\":{\"fill\":{\"color\":\"#C8D4E3\"},\"line\":{\"color\":\"white\"}},\"type\":\"table\"}],\"barpolar\":[{\"marker\":{\"line\":{\"color\":\"#E5ECF6\",\"width\":0.5},\"pattern\":{\"fillmode\":\"overlay\",\"size\":10,\"solidity\":0.2}},\"type\":\"barpolar\"}],\"pie\":[{\"automargin\":true,\"type\":\"pie\"}]},\"layout\":{\"autotypenumbers\":\"strict\",\"colorway\":[\"#636efa\",\"#EF553B\",\"#00cc96\",\"#ab63fa\",\"#FFA15A\",\"#19d3f3\",\"#FF6692\",\"#B6E880\",\"#FF97FF\",\"#FECB52\"],\"font\":{\"color\":\"#2a3f5f\"},\"hovermode\":\"closest\",\"hoverlabel\":{\"align\":\"left\"},\"paper_bgcolor\":\"white\",\"plot_bgcolor\":\"#E5ECF6\",\"polar\":{\"bgcolor\":\"#E5ECF6\",\"angularaxis\":{\"gridcolor\":\"white\",\"linecolor\":\"white\",\"ticks\":\"\"},\"radialaxis\":{\"gridcolor\":\"white\",\"linecolor\":\"white\",\"ticks\":\"\"}},\"ternary\":{\"bgcolor\":\"#E5ECF6\",\"aaxis\":{\"gridcolor\":\"white\",\"linecolor\":\"white\",\"ticks\":\"\"},\"baxis\":{\"gridcolor\":\"white\",\"linecolor\":\"white\",\"ticks\":\"\"},\"caxis\":{\"gridcolor\":\"white\",\"linecolor\":\"white\",\"ticks\":\"\"}},\"coloraxis\":{\"colorbar\":{\"outlinewidth\":0,\"ticks\":\"\"}},\"colorscale\":{\"sequential\":[[0.0,\"#0d0887\"],[0.1111111111111111,\"#46039f\"],[0.2222222222222222,\"#7201a8\"],[0.3333333333333333,\"#9c179e\"],[0.4444444444444444,\"#bd3786\"],[0.5555555555555556,\"#d8576b\"],[0.6666666666666666,\"#ed7953\"],[0.7777777777777778,\"#fb9f3a\"],[0.8888888888888888,\"#fdca26\"],[1.0,\"#f0f921\"]],\"sequentialminus\":[[0.0,\"#0d0887\"],[0.1111111111111111,\"#46039f\"],[0.2222222222222222,\"#7201a8\"],[0.3333333333333333,\"#9c179e\"],[0.4444444444444444,\"#bd3786\"],[0.5555555555555556,\"#d8576b\"],[0.6666666666666666,\"#ed7953\"],[0.7777777777777778,\"#fb9f3a\"],[0.8888888888888888,\"#fdca26\"],[1.0,\"#f0f921\"]],\"diverging\":[[0,\"#8e0152\"],[0.1,\"#c51b7d\"],[0.2,\"#de77ae\"],[0.3,\"#f1b6da\"],[0.4,\"#fde0ef\"],[0.5,\"#f7f7f7\"],[0.6,\"#e6f5d0\"],[0.7,\"#b8e186\"],[0.8,\"#7fbc41\"],[0.9,\"#4d9221\"],[1,\"#276419\"]]},\"xaxis\":{\"gridcolor\":\"white\",\"linecolor\":\"white\",\"ticks\":\"\",\"title\":{\"standoff\":15},\"zerolinecolor\":\"white\",\"automargin\":true,\"zerolinewidth\":2},\"yaxis\":{\"gridcolor\":\"white\",\"linecolor\":\"white\",\"ticks\":\"\",\"title\":{\"standoff\":15},\"zerolinecolor\":\"white\",\"automargin\":true,\"zerolinewidth\":2},\"scene\":{\"xaxis\":{\"backgroundcolor\":\"#E5ECF6\",\"gridcolor\":\"white\",\"linecolor\":\"white\",\"showbackground\":true,\"ticks\":\"\",\"zerolinecolor\":\"white\",\"gridwidth\":2},\"yaxis\":{\"backgroundcolor\":\"#E5ECF6\",\"gridcolor\":\"white\",\"linecolor\":\"white\",\"showbackground\":true,\"ticks\":\"\",\"zerolinecolor\":\"white\",\"gridwidth\":2},\"zaxis\":{\"backgroundcolor\":\"#E5ECF6\",\"gridcolor\":\"white\",\"linecolor\":\"white\",\"showbackground\":true,\"ticks\":\"\",\"zerolinecolor\":\"white\",\"gridwidth\":2}},\"shapedefaults\":{\"line\":{\"color\":\"#2a3f5f\"}},\"annotationdefaults\":{\"arrowcolor\":\"#2a3f5f\",\"arrowhead\":0,\"arrowwidth\":1},\"geo\":{\"bgcolor\":\"white\",\"landcolor\":\"#E5ECF6\",\"subunitcolor\":\"white\",\"showland\":true,\"showlakes\":true,\"lakecolor\":\"white\"},\"title\":{\"x\":0.05},\"mapbox\":{\"style\":\"light\"}}},\"xaxis\":{\"anchor\":\"y\",\"domain\":[0.55,1.0]},\"yaxis\":{\"anchor\":\"x\",\"domain\":[0.625,1.0]},\"xaxis2\":{\"anchor\":\"y2\",\"domain\":[0.0,0.45]},\"yaxis2\":{\"anchor\":\"x2\",\"domain\":[0.0,0.375]},\"annotations\":[{\"font\":{\"size\":16},\"showarrow\":false,\"text\":\"Availability of Mental Health Benefits\",\"x\":0.225,\"xanchor\":\"center\",\"xref\":\"paper\",\"y\":1.0,\"yanchor\":\"bottom\",\"yref\":\"paper\"},{\"font\":{\"size\":16},\"showarrow\":false,\"text\":\"Does the Presence of Mental Health Benefits Encourage Seeking Help?\",\"x\":0.775,\"xanchor\":\"center\",\"xref\":\"paper\",\"y\":1.0,\"yanchor\":\"bottom\",\"yref\":\"paper\"},{\"font\":{\"size\":16},\"showarrow\":false,\"text\":\"Effectiveness of Wellness Programs and Mental Health Care Options\",\"x\":0.225,\"xanchor\":\"center\",\"xref\":\"paper\",\"y\":0.375,\"yanchor\":\"bottom\",\"yref\":\"paper\"},{\"font\":{\"size\":16},\"showarrow\":false,\"text\":\"Ease of Taking Mental Health Leave\",\"x\":0.775,\"xanchor\":\"center\",\"xref\":\"paper\",\"y\":0.375,\"yanchor\":\"bottom\",\"yref\":\"paper\"}],\"title\":{\"text\":\"Mental Health Survey Results\"},\"showlegend\":false,\"height\":800,\"width\":1400},                        {\"responsive\": true}                    ).then(function(){\n",
              "                            \n",
              "var gd = document.getElementById('fecca394-794d-442c-bd74-84566348c6de');\n",
              "var x = new MutationObserver(function (mutations, observer) {{\n",
              "        var display = window.getComputedStyle(gd).display;\n",
              "        if (!display || display === 'none') {{\n",
              "            console.log([gd, 'removed!']);\n",
              "            Plotly.purge(gd);\n",
              "            observer.disconnect();\n",
              "        }}\n",
              "}});\n",
              "\n",
              "// Listen for the removal of the full notebook cells\n",
              "var notebookContainer = gd.closest('#notebook-container');\n",
              "if (notebookContainer) {{\n",
              "    x.observe(notebookContainer, {childList: true});\n",
              "}}\n",
              "\n",
              "// Listen for the clearing of the current output cell\n",
              "var outputEl = gd.closest('.output');\n",
              "if (outputEl) {{\n",
              "    x.observe(outputEl, {childList: true});\n",
              "}}\n",
              "\n",
              "                        })                };                            </script>        </div>\n",
              "</body>\n",
              "</html>"
            ]
          },
          "metadata": {}
        }
      ]
    },
    {
      "cell_type": "markdown",
      "source": [
        "### **Workplace Perceptions and Stigma: Insights on Mental Health**\n",
        "\n",
        "**Consequences of Discussing Mental Health vs Physical Health**\n",
        "\n",
        "This graph compares the perceived consequences of discussing mental health and physical health in the workplace. It reveals whether employees believe they face greater consequences when discussing mental health compared to physical health issues, highlighting the stigma and societal challenges surrounding mental health at work.\n",
        "\n",
        "**Interview Comfort Level: Mental vs Physical Health**\n",
        "\n",
        "The second graph explores how comfortable candidates feel discussing mental health versus physical health during job interviews. It sheds light on whether stigma discourages candidates from addressing mental health concerns during the hiring process, offering valuable insights into potential barriers to open communication in professional settings.\n",
        "\n",
        "**Support from Coworkers and Supervisors**\n",
        "\n",
        "This stacked bar chart illustrates the levels of support employees receive from coworkers and supervisors concerning mental health issues. By visualizing the combination of support from both groups, it helps identify areas where workplace culture may need improvement to foster a more supportive environment for mental health discussions and accommodations.\n",
        "\n",
        "**Observable Consequences of Mental Health Struggles**\n",
        "\n",
        "The pie chart highlights the observable consequences of mental health struggles as reported by employees. This graph helps identify how frequently mental health struggles manifest visibly in the workplace, providing a deeper understanding of how these challenges are perceived and recognized by others.\n",
        "\n",
        "These insights collectively offer a comprehensive view of the challenges employees face regarding mental health in the workplace, the stigma they encounter, and the level of support they receive, guiding potential interventions and improvements in workplace culture."
      ],
      "metadata": {
        "id": "ai48b7nWfHi-"
      }
    },
    {
      "cell_type": "code",
      "source": [
        "from plotly.subplots import make_subplots\n",
        "import plotly.graph_objects as go\n",
        "import plotly.express as px\n",
        "\n",
        "# Create a subplot grid (2 rows, 2 columns)\n",
        "fig = make_subplots(\n",
        "    rows=2, cols=2,\n",
        "    subplot_titles=[\n",
        "        'Consequences of Discussing Mental Health vs Physical Health',\n",
        "        'Interview Comfort Level: Mental vs Physical Health',\n",
        "        'Support from Coworkers and Supervisors',\n",
        "        'Observable Consequences of Mental Health Struggles'\n",
        "    ],\n",
        "    specs=[[{'type': 'xy'}, {'type': 'xy'}], [{'type': 'xy'}, {'type': 'pie'}]]\n",
        ")\n",
        "\n",
        "# 1. Consequences of Mental Health vs Physical Health\n",
        "if 'mental_health_consequence' in data.columns and 'phys_health_consequence' in data.columns:\n",
        "    consequence_counts = data.groupby(['mental_health_consequence', 'phys_health_consequence']).size().reset_index(name='count')\n",
        "    fig_1 = px.bar(consequence_counts, x='mental_health_consequence', y='count', color='phys_health_consequence',\n",
        "                   labels={'mental_health_consequence': 'Mental Health Consequence', 'phys_health_consequence': 'Physical Health Consequence'})\n",
        "    for trace in fig_1.data:\n",
        "        fig.add_trace(trace, row=1, col=1)\n",
        "\n",
        "# 2. Interview Comfort Level\n",
        "if 'mental_health_interview' in data.columns and 'phys_health_interview' in data.columns:\n",
        "    interview_comfort_counts = data.groupby(['mental_health_interview', 'phys_health_interview']).size().reset_index(name='count')\n",
        "    fig_2 = px.bar(interview_comfort_counts, x='mental_health_interview', y='count', color='phys_health_interview', barmode='stack')\n",
        "    for trace in fig_2.data:\n",
        "        fig.add_trace(trace, row=1, col=2)\n",
        "\n",
        "# 3. Support from Coworkers and Supervisors (Replaced Heatmap with Stacked Bar Chart)\n",
        "if 'coworkers' in data.columns and 'supervisor' in data.columns:\n",
        "    support_counts = data.groupby(['coworkers', 'supervisor']).size().reset_index(name='count')\n",
        "    fig_3 = px.bar(support_counts, x='coworkers', y='count', color='supervisor',\n",
        "                   title='Support from Coworkers and Supervisors for Mental Health Issues',\n",
        "                   labels={'coworkers': 'Support from Coworkers', 'supervisor': 'Support from Supervisors', 'count': 'Number of People'},\n",
        "                   barmode='stack')  # Stacked bar chart to visualize support levels\n",
        "    for trace in fig_3.data:\n",
        "        fig.add_trace(trace, row=2, col=1)\n",
        "\n",
        "# 4. Observable Consequences\n",
        "if 'obs_consequence' in data.columns:\n",
        "    obs_consequence_counts = data['obs_consequence'].value_counts().reset_index(name='count')\n",
        "    obs_consequence_counts.columns = ['Observable Consequence', 'Count']\n",
        "    fig_4 = px.pie(obs_consequence_counts, names='Observable Consequence', values='Count')\n",
        "    for trace in fig_4.data:\n",
        "        fig.add_trace(trace, row=2, col=2)\n",
        "\n",
        "# Update layout and show the final grid\n",
        "fig.update_layout(\n",
        "    title_text=\"Workplace Perceptions and Stigma\",\n",
        "    height=800,\n",
        "    width=1400\n",
        ")\n",
        "\n",
        "fig.show()\n"
      ],
      "metadata": {
        "colab": {
          "base_uri": "https://localhost:8080/",
          "height": 837
        },
        "id": "XIVIs2c7cXk_",
        "outputId": "2f4b575d-c5c9-4c98-9ed1-c6b1d431172e"
      },
      "execution_count": 14,
      "outputs": [
        {
          "output_type": "display_data",
          "data": {
            "text/html": [
              "<html>\n",
              "<head><meta charset=\"utf-8\" /></head>\n",
              "<body>\n",
              "    <div>            <script src=\"https://cdnjs.cloudflare.com/ajax/libs/mathjax/2.7.5/MathJax.js?config=TeX-AMS-MML_SVG\"></script><script type=\"text/javascript\">if (window.MathJax && window.MathJax.Hub && window.MathJax.Hub.Config) {window.MathJax.Hub.Config({SVG: {font: \"STIX-Web\"}});}</script>                <script type=\"text/javascript\">window.PlotlyConfig = {MathJaxConfig: 'local'};</script>\n",
              "        <script charset=\"utf-8\" src=\"https://cdn.plot.ly/plotly-2.35.2.min.js\"></script>                <div id=\"27d91a31-46ae-4bd8-9fb2-1c77359ea84d\" class=\"plotly-graph-div\" style=\"height:800px; width:1400px;\"></div>            <script type=\"text/javascript\">                                    window.PLOTLYENV=window.PLOTLYENV || {};                                    if (document.getElementById(\"27d91a31-46ae-4bd8-9fb2-1c77359ea84d\")) {                    Plotly.newPlot(                        \"27d91a31-46ae-4bd8-9fb2-1c77359ea84d\",                        [{\"alignmentgroup\":\"True\",\"hovertemplate\":\"Physical Health Consequence=Maybe\\u003cbr\\u003eMental Health Consequence=%{x}\\u003cbr\\u003ecount=%{y}\\u003cextra\\u003e\\u003c\\u002fextra\\u003e\",\"legendgroup\":\"Maybe\",\"marker\":{\"color\":\"#636efa\",\"pattern\":{\"shape\":\"\"}},\"name\":\"Maybe\",\"offsetgroup\":\"Maybe\",\"orientation\":\"v\",\"showlegend\":true,\"textposition\":\"auto\",\"x\":[\"Maybe\",\"No\",\"Yes\"],\"xaxis\":\"x\",\"y\":[153,8,112],\"yaxis\":\"y\",\"type\":\"bar\"},{\"alignmentgroup\":\"True\",\"hovertemplate\":\"Physical Health Consequence=No\\u003cbr\\u003eMental Health Consequence=%{x}\\u003cbr\\u003ecount=%{y}\\u003cextra\\u003e\\u003c\\u002fextra\\u003e\",\"legendgroup\":\"No\",\"marker\":{\"color\":\"#EF553B\",\"pattern\":{\"shape\":\"\"}},\"name\":\"No\",\"offsetgroup\":\"No\",\"orientation\":\"v\",\"showlegend\":true,\"textposition\":\"auto\",\"x\":[\"Maybe\",\"No\",\"Yes\"],\"xaxis\":\"x\",\"y\":[320,482,123],\"yaxis\":\"y\",\"type\":\"bar\"},{\"alignmentgroup\":\"True\",\"hovertemplate\":\"Physical Health Consequence=Yes\\u003cbr\\u003eMental Health Consequence=%{x}\\u003cbr\\u003ecount=%{y}\\u003cextra\\u003e\\u003c\\u002fextra\\u003e\",\"legendgroup\":\"Yes\",\"marker\":{\"color\":\"#00cc96\",\"pattern\":{\"shape\":\"\"}},\"name\":\"Yes\",\"offsetgroup\":\"Yes\",\"orientation\":\"v\",\"showlegend\":true,\"textposition\":\"auto\",\"x\":[\"Maybe\",\"Yes\"],\"xaxis\":\"x\",\"y\":[4,57],\"yaxis\":\"y\",\"type\":\"bar\"},{\"alignmentgroup\":\"True\",\"hovertemplate\":\"phys_health_interview=Maybe\\u003cbr\\u003emental_health_interview=%{x}\\u003cbr\\u003ecount=%{y}\\u003cextra\\u003e\\u003c\\u002fextra\\u003e\",\"legendgroup\":\"Maybe\",\"marker\":{\"color\":\"#636efa\",\"pattern\":{\"shape\":\"\"}},\"name\":\"Maybe\",\"offsetgroup\":\"Maybe\",\"orientation\":\"v\",\"showlegend\":true,\"textposition\":\"auto\",\"x\":[\"Maybe\",\"No\",\"Yes\"],\"xaxis\":\"x2\",\"y\":[143,413,1],\"yaxis\":\"y2\",\"type\":\"bar\"},{\"alignmentgroup\":\"True\",\"hovertemplate\":\"phys_health_interview=No\\u003cbr\\u003emental_health_interview=%{x}\\u003cbr\\u003ecount=%{y}\\u003cextra\\u003e\\u003c\\u002fextra\\u003e\",\"legendgroup\":\"No\",\"marker\":{\"color\":\"#EF553B\",\"pattern\":{\"shape\":\"\"}},\"name\":\"No\",\"offsetgroup\":\"No\",\"orientation\":\"v\",\"showlegend\":true,\"textposition\":\"auto\",\"x\":[\"Maybe\",\"No\",\"Yes\"],\"xaxis\":\"x2\",\"y\":[6,492,2],\"yaxis\":\"y2\",\"type\":\"bar\"},{\"alignmentgroup\":\"True\",\"hovertemplate\":\"phys_health_interview=Yes\\u003cbr\\u003emental_health_interview=%{x}\\u003cbr\\u003ecount=%{y}\\u003cextra\\u003e\\u003c\\u002fextra\\u003e\",\"legendgroup\":\"Yes\",\"marker\":{\"color\":\"#00cc96\",\"pattern\":{\"shape\":\"\"}},\"name\":\"Yes\",\"offsetgroup\":\"Yes\",\"orientation\":\"v\",\"showlegend\":true,\"textposition\":\"auto\",\"x\":[\"Maybe\",\"No\",\"Yes\"],\"xaxis\":\"x2\",\"y\":[58,103,41],\"yaxis\":\"y2\",\"type\":\"bar\"},{\"alignmentgroup\":\"True\",\"hovertemplate\":\"Support from Supervisors=No\\u003cbr\\u003eSupport from Coworkers=%{x}\\u003cbr\\u003eNumber of People=%{y}\\u003cextra\\u003e\\u003c\\u002fextra\\u003e\",\"legendgroup\":\"No\",\"marker\":{\"color\":\"#636efa\",\"pattern\":{\"shape\":\"\"}},\"name\":\"No\",\"offsetgroup\":\"No\",\"orientation\":\"v\",\"showlegend\":true,\"textposition\":\"auto\",\"x\":[\"No\",\"Some of them\",\"Yes\"],\"xaxis\":\"x3\",\"y\":[199,189,5],\"yaxis\":\"y3\",\"type\":\"bar\"},{\"alignmentgroup\":\"True\",\"hovertemplate\":\"Support from Supervisors=Some of them\\u003cbr\\u003eSupport from Coworkers=%{x}\\u003cbr\\u003eNumber of People=%{y}\\u003cextra\\u003e\\u003c\\u002fextra\\u003e\",\"legendgroup\":\"Some of them\",\"marker\":{\"color\":\"#EF553B\",\"pattern\":{\"shape\":\"\"}},\"name\":\"Some of them\",\"offsetgroup\":\"Some of them\",\"orientation\":\"v\",\"showlegend\":true,\"textposition\":\"auto\",\"x\":[\"No\",\"Some of them\",\"Yes\"],\"xaxis\":\"x3\",\"y\":[47,278,25],\"yaxis\":\"y3\",\"type\":\"bar\"},{\"alignmentgroup\":\"True\",\"hovertemplate\":\"Support from Supervisors=Yes\\u003cbr\\u003eSupport from Coworkers=%{x}\\u003cbr\\u003eNumber of People=%{y}\\u003cextra\\u003e\\u003c\\u002fextra\\u003e\",\"legendgroup\":\"Yes\",\"marker\":{\"color\":\"#00cc96\",\"pattern\":{\"shape\":\"\"}},\"name\":\"Yes\",\"offsetgroup\":\"Yes\",\"orientation\":\"v\",\"showlegend\":true,\"textposition\":\"auto\",\"x\":[\"No\",\"Some of them\",\"Yes\"],\"xaxis\":\"x3\",\"y\":[14,307,195],\"yaxis\":\"y3\",\"type\":\"bar\"},{\"domain\":{\"x\":[0.55,1.0],\"y\":[0.0,0.375]},\"hovertemplate\":\"Observable Consequence=%{label}\\u003cbr\\u003eCount=%{value}\\u003cextra\\u003e\\u003c\\u002fextra\\u003e\",\"labels\":[\"No\",\"Yes\"],\"legendgroup\":\"\",\"name\":\"\",\"showlegend\":true,\"values\":[1075,184],\"type\":\"pie\"}],                        {\"template\":{\"data\":{\"histogram2dcontour\":[{\"type\":\"histogram2dcontour\",\"colorbar\":{\"outlinewidth\":0,\"ticks\":\"\"},\"colorscale\":[[0.0,\"#0d0887\"],[0.1111111111111111,\"#46039f\"],[0.2222222222222222,\"#7201a8\"],[0.3333333333333333,\"#9c179e\"],[0.4444444444444444,\"#bd3786\"],[0.5555555555555556,\"#d8576b\"],[0.6666666666666666,\"#ed7953\"],[0.7777777777777778,\"#fb9f3a\"],[0.8888888888888888,\"#fdca26\"],[1.0,\"#f0f921\"]]}],\"choropleth\":[{\"type\":\"choropleth\",\"colorbar\":{\"outlinewidth\":0,\"ticks\":\"\"}}],\"histogram2d\":[{\"type\":\"histogram2d\",\"colorbar\":{\"outlinewidth\":0,\"ticks\":\"\"},\"colorscale\":[[0.0,\"#0d0887\"],[0.1111111111111111,\"#46039f\"],[0.2222222222222222,\"#7201a8\"],[0.3333333333333333,\"#9c179e\"],[0.4444444444444444,\"#bd3786\"],[0.5555555555555556,\"#d8576b\"],[0.6666666666666666,\"#ed7953\"],[0.7777777777777778,\"#fb9f3a\"],[0.8888888888888888,\"#fdca26\"],[1.0,\"#f0f921\"]]}],\"heatmap\":[{\"type\":\"heatmap\",\"colorbar\":{\"outlinewidth\":0,\"ticks\":\"\"},\"colorscale\":[[0.0,\"#0d0887\"],[0.1111111111111111,\"#46039f\"],[0.2222222222222222,\"#7201a8\"],[0.3333333333333333,\"#9c179e\"],[0.4444444444444444,\"#bd3786\"],[0.5555555555555556,\"#d8576b\"],[0.6666666666666666,\"#ed7953\"],[0.7777777777777778,\"#fb9f3a\"],[0.8888888888888888,\"#fdca26\"],[1.0,\"#f0f921\"]]}],\"heatmapgl\":[{\"type\":\"heatmapgl\",\"colorbar\":{\"outlinewidth\":0,\"ticks\":\"\"},\"colorscale\":[[0.0,\"#0d0887\"],[0.1111111111111111,\"#46039f\"],[0.2222222222222222,\"#7201a8\"],[0.3333333333333333,\"#9c179e\"],[0.4444444444444444,\"#bd3786\"],[0.5555555555555556,\"#d8576b\"],[0.6666666666666666,\"#ed7953\"],[0.7777777777777778,\"#fb9f3a\"],[0.8888888888888888,\"#fdca26\"],[1.0,\"#f0f921\"]]}],\"contourcarpet\":[{\"type\":\"contourcarpet\",\"colorbar\":{\"outlinewidth\":0,\"ticks\":\"\"}}],\"contour\":[{\"type\":\"contour\",\"colorbar\":{\"outlinewidth\":0,\"ticks\":\"\"},\"colorscale\":[[0.0,\"#0d0887\"],[0.1111111111111111,\"#46039f\"],[0.2222222222222222,\"#7201a8\"],[0.3333333333333333,\"#9c179e\"],[0.4444444444444444,\"#bd3786\"],[0.5555555555555556,\"#d8576b\"],[0.6666666666666666,\"#ed7953\"],[0.7777777777777778,\"#fb9f3a\"],[0.8888888888888888,\"#fdca26\"],[1.0,\"#f0f921\"]]}],\"surface\":[{\"type\":\"surface\",\"colorbar\":{\"outlinewidth\":0,\"ticks\":\"\"},\"colorscale\":[[0.0,\"#0d0887\"],[0.1111111111111111,\"#46039f\"],[0.2222222222222222,\"#7201a8\"],[0.3333333333333333,\"#9c179e\"],[0.4444444444444444,\"#bd3786\"],[0.5555555555555556,\"#d8576b\"],[0.6666666666666666,\"#ed7953\"],[0.7777777777777778,\"#fb9f3a\"],[0.8888888888888888,\"#fdca26\"],[1.0,\"#f0f921\"]]}],\"mesh3d\":[{\"type\":\"mesh3d\",\"colorbar\":{\"outlinewidth\":0,\"ticks\":\"\"}}],\"scatter\":[{\"fillpattern\":{\"fillmode\":\"overlay\",\"size\":10,\"solidity\":0.2},\"type\":\"scatter\"}],\"parcoords\":[{\"type\":\"parcoords\",\"line\":{\"colorbar\":{\"outlinewidth\":0,\"ticks\":\"\"}}}],\"scatterpolargl\":[{\"type\":\"scatterpolargl\",\"marker\":{\"colorbar\":{\"outlinewidth\":0,\"ticks\":\"\"}}}],\"bar\":[{\"error_x\":{\"color\":\"#2a3f5f\"},\"error_y\":{\"color\":\"#2a3f5f\"},\"marker\":{\"line\":{\"color\":\"#E5ECF6\",\"width\":0.5},\"pattern\":{\"fillmode\":\"overlay\",\"size\":10,\"solidity\":0.2}},\"type\":\"bar\"}],\"scattergeo\":[{\"type\":\"scattergeo\",\"marker\":{\"colorbar\":{\"outlinewidth\":0,\"ticks\":\"\"}}}],\"scatterpolar\":[{\"type\":\"scatterpolar\",\"marker\":{\"colorbar\":{\"outlinewidth\":0,\"ticks\":\"\"}}}],\"histogram\":[{\"marker\":{\"pattern\":{\"fillmode\":\"overlay\",\"size\":10,\"solidity\":0.2}},\"type\":\"histogram\"}],\"scattergl\":[{\"type\":\"scattergl\",\"marker\":{\"colorbar\":{\"outlinewidth\":0,\"ticks\":\"\"}}}],\"scatter3d\":[{\"type\":\"scatter3d\",\"line\":{\"colorbar\":{\"outlinewidth\":0,\"ticks\":\"\"}},\"marker\":{\"colorbar\":{\"outlinewidth\":0,\"ticks\":\"\"}}}],\"scattermapbox\":[{\"type\":\"scattermapbox\",\"marker\":{\"colorbar\":{\"outlinewidth\":0,\"ticks\":\"\"}}}],\"scatterternary\":[{\"type\":\"scatterternary\",\"marker\":{\"colorbar\":{\"outlinewidth\":0,\"ticks\":\"\"}}}],\"scattercarpet\":[{\"type\":\"scattercarpet\",\"marker\":{\"colorbar\":{\"outlinewidth\":0,\"ticks\":\"\"}}}],\"carpet\":[{\"aaxis\":{\"endlinecolor\":\"#2a3f5f\",\"gridcolor\":\"white\",\"linecolor\":\"white\",\"minorgridcolor\":\"white\",\"startlinecolor\":\"#2a3f5f\"},\"baxis\":{\"endlinecolor\":\"#2a3f5f\",\"gridcolor\":\"white\",\"linecolor\":\"white\",\"minorgridcolor\":\"white\",\"startlinecolor\":\"#2a3f5f\"},\"type\":\"carpet\"}],\"table\":[{\"cells\":{\"fill\":{\"color\":\"#EBF0F8\"},\"line\":{\"color\":\"white\"}},\"header\":{\"fill\":{\"color\":\"#C8D4E3\"},\"line\":{\"color\":\"white\"}},\"type\":\"table\"}],\"barpolar\":[{\"marker\":{\"line\":{\"color\":\"#E5ECF6\",\"width\":0.5},\"pattern\":{\"fillmode\":\"overlay\",\"size\":10,\"solidity\":0.2}},\"type\":\"barpolar\"}],\"pie\":[{\"automargin\":true,\"type\":\"pie\"}]},\"layout\":{\"autotypenumbers\":\"strict\",\"colorway\":[\"#636efa\",\"#EF553B\",\"#00cc96\",\"#ab63fa\",\"#FFA15A\",\"#19d3f3\",\"#FF6692\",\"#B6E880\",\"#FF97FF\",\"#FECB52\"],\"font\":{\"color\":\"#2a3f5f\"},\"hovermode\":\"closest\",\"hoverlabel\":{\"align\":\"left\"},\"paper_bgcolor\":\"white\",\"plot_bgcolor\":\"#E5ECF6\",\"polar\":{\"bgcolor\":\"#E5ECF6\",\"angularaxis\":{\"gridcolor\":\"white\",\"linecolor\":\"white\",\"ticks\":\"\"},\"radialaxis\":{\"gridcolor\":\"white\",\"linecolor\":\"white\",\"ticks\":\"\"}},\"ternary\":{\"bgcolor\":\"#E5ECF6\",\"aaxis\":{\"gridcolor\":\"white\",\"linecolor\":\"white\",\"ticks\":\"\"},\"baxis\":{\"gridcolor\":\"white\",\"linecolor\":\"white\",\"ticks\":\"\"},\"caxis\":{\"gridcolor\":\"white\",\"linecolor\":\"white\",\"ticks\":\"\"}},\"coloraxis\":{\"colorbar\":{\"outlinewidth\":0,\"ticks\":\"\"}},\"colorscale\":{\"sequential\":[[0.0,\"#0d0887\"],[0.1111111111111111,\"#46039f\"],[0.2222222222222222,\"#7201a8\"],[0.3333333333333333,\"#9c179e\"],[0.4444444444444444,\"#bd3786\"],[0.5555555555555556,\"#d8576b\"],[0.6666666666666666,\"#ed7953\"],[0.7777777777777778,\"#fb9f3a\"],[0.8888888888888888,\"#fdca26\"],[1.0,\"#f0f921\"]],\"sequentialminus\":[[0.0,\"#0d0887\"],[0.1111111111111111,\"#46039f\"],[0.2222222222222222,\"#7201a8\"],[0.3333333333333333,\"#9c179e\"],[0.4444444444444444,\"#bd3786\"],[0.5555555555555556,\"#d8576b\"],[0.6666666666666666,\"#ed7953\"],[0.7777777777777778,\"#fb9f3a\"],[0.8888888888888888,\"#fdca26\"],[1.0,\"#f0f921\"]],\"diverging\":[[0,\"#8e0152\"],[0.1,\"#c51b7d\"],[0.2,\"#de77ae\"],[0.3,\"#f1b6da\"],[0.4,\"#fde0ef\"],[0.5,\"#f7f7f7\"],[0.6,\"#e6f5d0\"],[0.7,\"#b8e186\"],[0.8,\"#7fbc41\"],[0.9,\"#4d9221\"],[1,\"#276419\"]]},\"xaxis\":{\"gridcolor\":\"white\",\"linecolor\":\"white\",\"ticks\":\"\",\"title\":{\"standoff\":15},\"zerolinecolor\":\"white\",\"automargin\":true,\"zerolinewidth\":2},\"yaxis\":{\"gridcolor\":\"white\",\"linecolor\":\"white\",\"ticks\":\"\",\"title\":{\"standoff\":15},\"zerolinecolor\":\"white\",\"automargin\":true,\"zerolinewidth\":2},\"scene\":{\"xaxis\":{\"backgroundcolor\":\"#E5ECF6\",\"gridcolor\":\"white\",\"linecolor\":\"white\",\"showbackground\":true,\"ticks\":\"\",\"zerolinecolor\":\"white\",\"gridwidth\":2},\"yaxis\":{\"backgroundcolor\":\"#E5ECF6\",\"gridcolor\":\"white\",\"linecolor\":\"white\",\"showbackground\":true,\"ticks\":\"\",\"zerolinecolor\":\"white\",\"gridwidth\":2},\"zaxis\":{\"backgroundcolor\":\"#E5ECF6\",\"gridcolor\":\"white\",\"linecolor\":\"white\",\"showbackground\":true,\"ticks\":\"\",\"zerolinecolor\":\"white\",\"gridwidth\":2}},\"shapedefaults\":{\"line\":{\"color\":\"#2a3f5f\"}},\"annotationdefaults\":{\"arrowcolor\":\"#2a3f5f\",\"arrowhead\":0,\"arrowwidth\":1},\"geo\":{\"bgcolor\":\"white\",\"landcolor\":\"#E5ECF6\",\"subunitcolor\":\"white\",\"showland\":true,\"showlakes\":true,\"lakecolor\":\"white\"},\"title\":{\"x\":0.05},\"mapbox\":{\"style\":\"light\"}}},\"xaxis\":{\"anchor\":\"y\",\"domain\":[0.0,0.45]},\"yaxis\":{\"anchor\":\"x\",\"domain\":[0.625,1.0]},\"xaxis2\":{\"anchor\":\"y2\",\"domain\":[0.55,1.0]},\"yaxis2\":{\"anchor\":\"x2\",\"domain\":[0.625,1.0]},\"xaxis3\":{\"anchor\":\"y3\",\"domain\":[0.0,0.45]},\"yaxis3\":{\"anchor\":\"x3\",\"domain\":[0.0,0.375]},\"annotations\":[{\"font\":{\"size\":16},\"showarrow\":false,\"text\":\"Consequences of Discussing Mental Health vs Physical Health\",\"x\":0.225,\"xanchor\":\"center\",\"xref\":\"paper\",\"y\":1.0,\"yanchor\":\"bottom\",\"yref\":\"paper\"},{\"font\":{\"size\":16},\"showarrow\":false,\"text\":\"Interview Comfort Level: Mental vs Physical Health\",\"x\":0.775,\"xanchor\":\"center\",\"xref\":\"paper\",\"y\":1.0,\"yanchor\":\"bottom\",\"yref\":\"paper\"},{\"font\":{\"size\":16},\"showarrow\":false,\"text\":\"Support from Coworkers and Supervisors\",\"x\":0.225,\"xanchor\":\"center\",\"xref\":\"paper\",\"y\":0.375,\"yanchor\":\"bottom\",\"yref\":\"paper\"},{\"font\":{\"size\":16},\"showarrow\":false,\"text\":\"Observable Consequences of Mental Health Struggles\",\"x\":0.775,\"xanchor\":\"center\",\"xref\":\"paper\",\"y\":0.375,\"yanchor\":\"bottom\",\"yref\":\"paper\"}],\"title\":{\"text\":\"Workplace Perceptions and Stigma\"},\"height\":800,\"width\":1400},                        {\"responsive\": true}                    ).then(function(){\n",
              "                            \n",
              "var gd = document.getElementById('27d91a31-46ae-4bd8-9fb2-1c77359ea84d');\n",
              "var x = new MutationObserver(function (mutations, observer) {{\n",
              "        var display = window.getComputedStyle(gd).display;\n",
              "        if (!display || display === 'none') {{\n",
              "            console.log([gd, 'removed!']);\n",
              "            Plotly.purge(gd);\n",
              "            observer.disconnect();\n",
              "        }}\n",
              "}});\n",
              "\n",
              "// Listen for the removal of the full notebook cells\n",
              "var notebookContainer = gd.closest('#notebook-container');\n",
              "if (notebookContainer) {{\n",
              "    x.observe(notebookContainer, {childList: true});\n",
              "}}\n",
              "\n",
              "// Listen for the clearing of the current output cell\n",
              "var outputEl = gd.closest('.output');\n",
              "if (outputEl) {{\n",
              "    x.observe(outputEl, {childList: true});\n",
              "}}\n",
              "\n",
              "                        })                };                            </script>        </div>\n",
              "</body>\n",
              "</html>"
            ]
          },
          "metadata": {}
        }
      ]
    },
    {
      "cell_type": "markdown",
      "source": [
        "\n",
        "\n",
        "---\n",
        "\n",
        "\n",
        "\n",
        "# **Workplace Environment and Job Type: Mental Health Insights**\n",
        "\n",
        "This dashboard presents key insights into how workplace characteristics influence mental health support, wellness programs, and treatment-seeking behavior. The visualizations offer a clear comparison across company size, remote work arrangements, and industry type.\n",
        "\n",
        "\n",
        "### **1. Company Size vs Mental Health Support**\n",
        "- **Description**: This chart examines the availability of wellness programs based on company size.  \n",
        "- **Insight**: Larger companies tend to offer more wellness programs compared to smaller organizations, showcasing a potential correlation between company resources and mental health support.\n",
        "\n",
        "\n",
        "### **2. Impact of Remote Work on Mental Health Support**\n",
        "- **Description**: This visualization highlights the relationship between remote work arrangements and wellness programs.  \n",
        "- **Insight**: Companies with remote work policies may show varying levels of wellness program adoption. It explores whether remote work promotes or limits access to mental health support.\n",
        "\n",
        "\n",
        "### **3. Tech vs Non-Tech Companies: Mental Health Trends**\n",
        "- **Description**: A comparative analysis of mental health support availability in tech and non-tech industries.  \n",
        "- **Insight**: Tech companies might display unique trends in adopting wellness programs, which could reflect their culture, employee demands, or resources dedicated to mental health initiatives.\n",
        "\n",
        "\n",
        "### **4. Remote Work and Treatment Seeking Behavior**\n",
        "- **Description**: This chart focuses on whether remote work influences employees' willingness to seek mental health treatment.  \n",
        "- **Insight**: Employees working remotely may exhibit different treatment-seeking behaviors, providing insight into how work arrangements impact mental health awareness and help-seeking culture.\n",
        "\n",
        "\n",
        "### **Overall Takeaway**  \n",
        "The analysis sheds light on how workplace size, remote work policies, and industry type influence mental health initiatives and behaviors. These findings can help organizations better tailor mental health support systems to meet employees' needs and improve overall workplace well-being.\n"
      ],
      "metadata": {
        "id": "4JbuRODK9P2j"
      }
    },
    {
      "cell_type": "code",
      "source": [
        "from plotly.subplots import make_subplots\n",
        "import plotly.graph_objects as go\n",
        "import plotly.express as px\n",
        "\n",
        "# Create a subplot grid (2 rows, 2 columns)\n",
        "fig = make_subplots(\n",
        "    rows=2, cols=2,\n",
        "    subplot_titles=[\n",
        "        'Company Size vs Mental Health Support',\n",
        "        'Impact of Remote Work on Mental Health',\n",
        "        'Tech vs Non-Tech Companies: Mental Health Trends',\n",
        "        'Remote Work and Treatment Seeking Behavior'\n",
        "    ],\n",
        "    specs=[[{'type': 'xy'}, {'type': 'xy'}], [{'type': 'xy'}, {'type': 'xy'}]]  # Adjusted specs for bar charts\n",
        ")\n",
        "\n",
        "# 1. Company Size vs Mental Health Support\n",
        "if 'no_employees' in data.columns and 'wellness_program' in data.columns:\n",
        "    size_support_counts = data.groupby(['no_employees', 'wellness_program']).size().reset_index(name='count')\n",
        "    fig_1 = px.bar(size_support_counts, x='no_employees', y='count', color='wellness_program',\n",
        "                   labels={'no_employees': 'Company Size', 'wellness_program': 'Wellness Program'})\n",
        "    for trace in fig_1.data:\n",
        "        fig.add_trace(trace, row=1, col=1)\n",
        "\n",
        "# 2. Impact of Remote Work on Mental Health\n",
        "if 'remote_work' in data.columns and 'wellness_program' in data.columns:\n",
        "    remote_support_counts = data.groupby(['remote_work', 'wellness_program']).size().reset_index(name='count')\n",
        "    fig_2 = px.bar(remote_support_counts, x='remote_work', y='count', color='wellness_program',\n",
        "                   labels={'remote_work': 'Remote Work', 'wellness_program': 'Wellness Program'})\n",
        "    for trace in fig_2.data:\n",
        "        fig.add_trace(trace, row=1, col=2)\n",
        "\n",
        "# 3. Tech vs Non-Tech Companies: Mental Health Trends\n",
        "if 'tech_company' in data.columns and 'wellness_program' in data.columns:\n",
        "    tech_support_counts = data.groupby(['tech_company', 'wellness_program']).size().reset_index(name='count')\n",
        "    fig_3 = px.bar(tech_support_counts, x='tech_company', y='count', color='wellness_program',\n",
        "                   labels={'tech_company': 'Tech Company', 'wellness_program': 'Wellness Program'})\n",
        "    for trace in fig_3.data:\n",
        "        fig.add_trace(trace, row=2, col=1)\n",
        "\n",
        "# 4. Remote Work and Treatment Seeking Behavior\n",
        "if 'remote_work' in data.columns and 'seek_help' in data.columns:\n",
        "    remote_seek_help_counts = data.groupby(['remote_work', 'seek_help']).size().reset_index(name='count')\n",
        "    fig_4 = px.bar(remote_seek_help_counts, x='remote_work', y='count', color='seek_help',\n",
        "                   labels={'remote_work': 'Remote Work', 'seek_help': 'Seeking Treatment'})\n",
        "    for trace in fig_4.data:\n",
        "        fig.add_trace(trace, row=2, col=2)\n",
        "\n",
        "# Update layout and show the final grid\n",
        "fig.update_layout(\n",
        "    title_text=\"Workplace Environment and Job Type: Mental Health Insights\",\n",
        "    height=800,\n",
        "    width=1400\n",
        ")\n",
        "\n",
        "fig.show()\n"
      ],
      "metadata": {
        "colab": {
          "base_uri": "https://localhost:8080/",
          "height": 837
        },
        "id": "BnIOW3w5ekPj",
        "outputId": "0331c1eb-d33b-49cb-f170-d36685c9fe5b"
      },
      "execution_count": 15,
      "outputs": [
        {
          "output_type": "display_data",
          "data": {
            "text/html": [
              "<html>\n",
              "<head><meta charset=\"utf-8\" /></head>\n",
              "<body>\n",
              "    <div>            <script src=\"https://cdnjs.cloudflare.com/ajax/libs/mathjax/2.7.5/MathJax.js?config=TeX-AMS-MML_SVG\"></script><script type=\"text/javascript\">if (window.MathJax && window.MathJax.Hub && window.MathJax.Hub.Config) {window.MathJax.Hub.Config({SVG: {font: \"STIX-Web\"}});}</script>                <script type=\"text/javascript\">window.PlotlyConfig = {MathJaxConfig: 'local'};</script>\n",
              "        <script charset=\"utf-8\" src=\"https://cdn.plot.ly/plotly-2.35.2.min.js\"></script>                <div id=\"1315b4cb-3566-4529-b45f-d6dd8f892c36\" class=\"plotly-graph-div\" style=\"height:800px; width:1400px;\"></div>            <script type=\"text/javascript\">                                    window.PLOTLYENV=window.PLOTLYENV || {};                                    if (document.getElementById(\"1315b4cb-3566-4529-b45f-d6dd8f892c36\")) {                    Plotly.newPlot(                        \"1315b4cb-3566-4529-b45f-d6dd8f892c36\",                        [{\"alignmentgroup\":\"True\",\"hovertemplate\":\"Wellness Program=Don't know\\u003cbr\\u003eCompany Size=%{x}\\u003cbr\\u003ecount=%{y}\\u003cextra\\u003e\\u003c\\u002fextra\\u003e\",\"legendgroup\":\"Don't know\",\"marker\":{\"color\":\"#636efa\",\"pattern\":{\"shape\":\"\"}},\"name\":\"Don't know\",\"offsetgroup\":\"Don't know\",\"orientation\":\"v\",\"showlegend\":true,\"textposition\":\"auto\",\"x\":[\"1-5\",\"100-500\",\"26-100\",\"500-1000\",\"6-25\",\"More than 1000\"],\"xaxis\":\"x\",\"y\":[20,34,39,9,22,64],\"yaxis\":\"y\",\"type\":\"bar\"},{\"alignmentgroup\":\"True\",\"hovertemplate\":\"Wellness Program=No\\u003cbr\\u003eCompany Size=%{x}\\u003cbr\\u003ecount=%{y}\\u003cextra\\u003e\\u003c\\u002fextra\\u003e\",\"legendgroup\":\"No\",\"marker\":{\"color\":\"#EF553B\",\"pattern\":{\"shape\":\"\"}},\"name\":\"No\",\"offsetgroup\":\"No\",\"orientation\":\"v\",\"showlegend\":true,\"textposition\":\"auto\",\"x\":[\"1-5\",\"100-500\",\"26-100\",\"500-1000\",\"6-25\",\"More than 1000\"],\"xaxis\":\"x\",\"y\":[122,116,210,34,251,109],\"yaxis\":\"y\",\"type\":\"bar\"},{\"alignmentgroup\":\"True\",\"hovertemplate\":\"Wellness Program=Yes\\u003cbr\\u003eCompany Size=%{x}\\u003cbr\\u003ecount=%{y}\\u003cextra\\u003e\\u003c\\u002fextra\\u003e\",\"legendgroup\":\"Yes\",\"marker\":{\"color\":\"#00cc96\",\"pattern\":{\"shape\":\"\"}},\"name\":\"Yes\",\"offsetgroup\":\"Yes\",\"orientation\":\"v\",\"showlegend\":true,\"textposition\":\"auto\",\"x\":[\"1-5\",\"100-500\",\"26-100\",\"500-1000\",\"6-25\",\"More than 1000\"],\"xaxis\":\"x\",\"y\":[20,26,40,17,17,109],\"yaxis\":\"y\",\"type\":\"bar\"},{\"alignmentgroup\":\"True\",\"hovertemplate\":\"Wellness Program=Don't know\\u003cbr\\u003eRemote Work=%{x}\\u003cbr\\u003ecount=%{y}\\u003cextra\\u003e\\u003c\\u002fextra\\u003e\",\"legendgroup\":\"Don't know\",\"marker\":{\"color\":\"#636efa\",\"pattern\":{\"shape\":\"\"}},\"name\":\"Don't know\",\"offsetgroup\":\"Don't know\",\"orientation\":\"v\",\"showlegend\":true,\"textposition\":\"auto\",\"x\":[\"No\",\"Yes\"],\"xaxis\":\"x2\",\"y\":[122,66],\"yaxis\":\"y2\",\"type\":\"bar\"},{\"alignmentgroup\":\"True\",\"hovertemplate\":\"Wellness Program=No\\u003cbr\\u003eRemote Work=%{x}\\u003cbr\\u003ecount=%{y}\\u003cextra\\u003e\\u003c\\u002fextra\\u003e\",\"legendgroup\":\"No\",\"marker\":{\"color\":\"#EF553B\",\"pattern\":{\"shape\":\"\"}},\"name\":\"No\",\"offsetgroup\":\"No\",\"orientation\":\"v\",\"showlegend\":true,\"textposition\":\"auto\",\"x\":[\"No\",\"Yes\"],\"xaxis\":\"x2\",\"y\":[586,256],\"yaxis\":\"y2\",\"type\":\"bar\"},{\"alignmentgroup\":\"True\",\"hovertemplate\":\"Wellness Program=Yes\\u003cbr\\u003eRemote Work=%{x}\\u003cbr\\u003ecount=%{y}\\u003cextra\\u003e\\u003c\\u002fextra\\u003e\",\"legendgroup\":\"Yes\",\"marker\":{\"color\":\"#00cc96\",\"pattern\":{\"shape\":\"\"}},\"name\":\"Yes\",\"offsetgroup\":\"Yes\",\"orientation\":\"v\",\"showlegend\":true,\"textposition\":\"auto\",\"x\":[\"No\",\"Yes\"],\"xaxis\":\"x2\",\"y\":[175,54],\"yaxis\":\"y2\",\"type\":\"bar\"},{\"alignmentgroup\":\"True\",\"hovertemplate\":\"Wellness Program=Don't know\\u003cbr\\u003eTech Company=%{x}\\u003cbr\\u003ecount=%{y}\\u003cextra\\u003e\\u003c\\u002fextra\\u003e\",\"legendgroup\":\"Don't know\",\"marker\":{\"color\":\"#636efa\",\"pattern\":{\"shape\":\"\"}},\"name\":\"Don't know\",\"offsetgroup\":\"Don't know\",\"orientation\":\"v\",\"showlegend\":true,\"textposition\":\"auto\",\"x\":[\"No\",\"Yes\"],\"xaxis\":\"x3\",\"y\":[27,161],\"yaxis\":\"y3\",\"type\":\"bar\"},{\"alignmentgroup\":\"True\",\"hovertemplate\":\"Wellness Program=No\\u003cbr\\u003eTech Company=%{x}\\u003cbr\\u003ecount=%{y}\\u003cextra\\u003e\\u003c\\u002fextra\\u003e\",\"legendgroup\":\"No\",\"marker\":{\"color\":\"#EF553B\",\"pattern\":{\"shape\":\"\"}},\"name\":\"No\",\"offsetgroup\":\"No\",\"orientation\":\"v\",\"showlegend\":true,\"textposition\":\"auto\",\"x\":[\"No\",\"Yes\"],\"xaxis\":\"x3\",\"y\":[134,708],\"yaxis\":\"y3\",\"type\":\"bar\"},{\"alignmentgroup\":\"True\",\"hovertemplate\":\"Wellness Program=Yes\\u003cbr\\u003eTech Company=%{x}\\u003cbr\\u003ecount=%{y}\\u003cextra\\u003e\\u003c\\u002fextra\\u003e\",\"legendgroup\":\"Yes\",\"marker\":{\"color\":\"#00cc96\",\"pattern\":{\"shape\":\"\"}},\"name\":\"Yes\",\"offsetgroup\":\"Yes\",\"orientation\":\"v\",\"showlegend\":true,\"textposition\":\"auto\",\"x\":[\"No\",\"Yes\"],\"xaxis\":\"x3\",\"y\":[67,162],\"yaxis\":\"y3\",\"type\":\"bar\"},{\"alignmentgroup\":\"True\",\"hovertemplate\":\"Seeking Treatment=Don't know\\u003cbr\\u003eRemote Work=%{x}\\u003cbr\\u003ecount=%{y}\\u003cextra\\u003e\\u003c\\u002fextra\\u003e\",\"legendgroup\":\"Don't know\",\"marker\":{\"color\":\"#636efa\",\"pattern\":{\"shape\":\"\"}},\"name\":\"Don't know\",\"offsetgroup\":\"Don't know\",\"orientation\":\"v\",\"showlegend\":true,\"textposition\":\"auto\",\"x\":[\"No\",\"Yes\"],\"xaxis\":\"x4\",\"y\":[252,111],\"yaxis\":\"y4\",\"type\":\"bar\"},{\"alignmentgroup\":\"True\",\"hovertemplate\":\"Seeking Treatment=No\\u003cbr\\u003eRemote Work=%{x}\\u003cbr\\u003ecount=%{y}\\u003cextra\\u003e\\u003c\\u002fextra\\u003e\",\"legendgroup\":\"No\",\"marker\":{\"color\":\"#EF553B\",\"pattern\":{\"shape\":\"\"}},\"name\":\"No\",\"offsetgroup\":\"No\",\"orientation\":\"v\",\"showlegend\":true,\"textposition\":\"auto\",\"x\":[\"No\",\"Yes\"],\"xaxis\":\"x4\",\"y\":[445,201],\"yaxis\":\"y4\",\"type\":\"bar\"},{\"alignmentgroup\":\"True\",\"hovertemplate\":\"Seeking Treatment=Yes\\u003cbr\\u003eRemote Work=%{x}\\u003cbr\\u003ecount=%{y}\\u003cextra\\u003e\\u003c\\u002fextra\\u003e\",\"legendgroup\":\"Yes\",\"marker\":{\"color\":\"#00cc96\",\"pattern\":{\"shape\":\"\"}},\"name\":\"Yes\",\"offsetgroup\":\"Yes\",\"orientation\":\"v\",\"showlegend\":true,\"textposition\":\"auto\",\"x\":[\"No\",\"Yes\"],\"xaxis\":\"x4\",\"y\":[186,64],\"yaxis\":\"y4\",\"type\":\"bar\"}],                        {\"template\":{\"data\":{\"histogram2dcontour\":[{\"type\":\"histogram2dcontour\",\"colorbar\":{\"outlinewidth\":0,\"ticks\":\"\"},\"colorscale\":[[0.0,\"#0d0887\"],[0.1111111111111111,\"#46039f\"],[0.2222222222222222,\"#7201a8\"],[0.3333333333333333,\"#9c179e\"],[0.4444444444444444,\"#bd3786\"],[0.5555555555555556,\"#d8576b\"],[0.6666666666666666,\"#ed7953\"],[0.7777777777777778,\"#fb9f3a\"],[0.8888888888888888,\"#fdca26\"],[1.0,\"#f0f921\"]]}],\"choropleth\":[{\"type\":\"choropleth\",\"colorbar\":{\"outlinewidth\":0,\"ticks\":\"\"}}],\"histogram2d\":[{\"type\":\"histogram2d\",\"colorbar\":{\"outlinewidth\":0,\"ticks\":\"\"},\"colorscale\":[[0.0,\"#0d0887\"],[0.1111111111111111,\"#46039f\"],[0.2222222222222222,\"#7201a8\"],[0.3333333333333333,\"#9c179e\"],[0.4444444444444444,\"#bd3786\"],[0.5555555555555556,\"#d8576b\"],[0.6666666666666666,\"#ed7953\"],[0.7777777777777778,\"#fb9f3a\"],[0.8888888888888888,\"#fdca26\"],[1.0,\"#f0f921\"]]}],\"heatmap\":[{\"type\":\"heatmap\",\"colorbar\":{\"outlinewidth\":0,\"ticks\":\"\"},\"colorscale\":[[0.0,\"#0d0887\"],[0.1111111111111111,\"#46039f\"],[0.2222222222222222,\"#7201a8\"],[0.3333333333333333,\"#9c179e\"],[0.4444444444444444,\"#bd3786\"],[0.5555555555555556,\"#d8576b\"],[0.6666666666666666,\"#ed7953\"],[0.7777777777777778,\"#fb9f3a\"],[0.8888888888888888,\"#fdca26\"],[1.0,\"#f0f921\"]]}],\"heatmapgl\":[{\"type\":\"heatmapgl\",\"colorbar\":{\"outlinewidth\":0,\"ticks\":\"\"},\"colorscale\":[[0.0,\"#0d0887\"],[0.1111111111111111,\"#46039f\"],[0.2222222222222222,\"#7201a8\"],[0.3333333333333333,\"#9c179e\"],[0.4444444444444444,\"#bd3786\"],[0.5555555555555556,\"#d8576b\"],[0.6666666666666666,\"#ed7953\"],[0.7777777777777778,\"#fb9f3a\"],[0.8888888888888888,\"#fdca26\"],[1.0,\"#f0f921\"]]}],\"contourcarpet\":[{\"type\":\"contourcarpet\",\"colorbar\":{\"outlinewidth\":0,\"ticks\":\"\"}}],\"contour\":[{\"type\":\"contour\",\"colorbar\":{\"outlinewidth\":0,\"ticks\":\"\"},\"colorscale\":[[0.0,\"#0d0887\"],[0.1111111111111111,\"#46039f\"],[0.2222222222222222,\"#7201a8\"],[0.3333333333333333,\"#9c179e\"],[0.4444444444444444,\"#bd3786\"],[0.5555555555555556,\"#d8576b\"],[0.6666666666666666,\"#ed7953\"],[0.7777777777777778,\"#fb9f3a\"],[0.8888888888888888,\"#fdca26\"],[1.0,\"#f0f921\"]]}],\"surface\":[{\"type\":\"surface\",\"colorbar\":{\"outlinewidth\":0,\"ticks\":\"\"},\"colorscale\":[[0.0,\"#0d0887\"],[0.1111111111111111,\"#46039f\"],[0.2222222222222222,\"#7201a8\"],[0.3333333333333333,\"#9c179e\"],[0.4444444444444444,\"#bd3786\"],[0.5555555555555556,\"#d8576b\"],[0.6666666666666666,\"#ed7953\"],[0.7777777777777778,\"#fb9f3a\"],[0.8888888888888888,\"#fdca26\"],[1.0,\"#f0f921\"]]}],\"mesh3d\":[{\"type\":\"mesh3d\",\"colorbar\":{\"outlinewidth\":0,\"ticks\":\"\"}}],\"scatter\":[{\"fillpattern\":{\"fillmode\":\"overlay\",\"size\":10,\"solidity\":0.2},\"type\":\"scatter\"}],\"parcoords\":[{\"type\":\"parcoords\",\"line\":{\"colorbar\":{\"outlinewidth\":0,\"ticks\":\"\"}}}],\"scatterpolargl\":[{\"type\":\"scatterpolargl\",\"marker\":{\"colorbar\":{\"outlinewidth\":0,\"ticks\":\"\"}}}],\"bar\":[{\"error_x\":{\"color\":\"#2a3f5f\"},\"error_y\":{\"color\":\"#2a3f5f\"},\"marker\":{\"line\":{\"color\":\"#E5ECF6\",\"width\":0.5},\"pattern\":{\"fillmode\":\"overlay\",\"size\":10,\"solidity\":0.2}},\"type\":\"bar\"}],\"scattergeo\":[{\"type\":\"scattergeo\",\"marker\":{\"colorbar\":{\"outlinewidth\":0,\"ticks\":\"\"}}}],\"scatterpolar\":[{\"type\":\"scatterpolar\",\"marker\":{\"colorbar\":{\"outlinewidth\":0,\"ticks\":\"\"}}}],\"histogram\":[{\"marker\":{\"pattern\":{\"fillmode\":\"overlay\",\"size\":10,\"solidity\":0.2}},\"type\":\"histogram\"}],\"scattergl\":[{\"type\":\"scattergl\",\"marker\":{\"colorbar\":{\"outlinewidth\":0,\"ticks\":\"\"}}}],\"scatter3d\":[{\"type\":\"scatter3d\",\"line\":{\"colorbar\":{\"outlinewidth\":0,\"ticks\":\"\"}},\"marker\":{\"colorbar\":{\"outlinewidth\":0,\"ticks\":\"\"}}}],\"scattermapbox\":[{\"type\":\"scattermapbox\",\"marker\":{\"colorbar\":{\"outlinewidth\":0,\"ticks\":\"\"}}}],\"scatterternary\":[{\"type\":\"scatterternary\",\"marker\":{\"colorbar\":{\"outlinewidth\":0,\"ticks\":\"\"}}}],\"scattercarpet\":[{\"type\":\"scattercarpet\",\"marker\":{\"colorbar\":{\"outlinewidth\":0,\"ticks\":\"\"}}}],\"carpet\":[{\"aaxis\":{\"endlinecolor\":\"#2a3f5f\",\"gridcolor\":\"white\",\"linecolor\":\"white\",\"minorgridcolor\":\"white\",\"startlinecolor\":\"#2a3f5f\"},\"baxis\":{\"endlinecolor\":\"#2a3f5f\",\"gridcolor\":\"white\",\"linecolor\":\"white\",\"minorgridcolor\":\"white\",\"startlinecolor\":\"#2a3f5f\"},\"type\":\"carpet\"}],\"table\":[{\"cells\":{\"fill\":{\"color\":\"#EBF0F8\"},\"line\":{\"color\":\"white\"}},\"header\":{\"fill\":{\"color\":\"#C8D4E3\"},\"line\":{\"color\":\"white\"}},\"type\":\"table\"}],\"barpolar\":[{\"marker\":{\"line\":{\"color\":\"#E5ECF6\",\"width\":0.5},\"pattern\":{\"fillmode\":\"overlay\",\"size\":10,\"solidity\":0.2}},\"type\":\"barpolar\"}],\"pie\":[{\"automargin\":true,\"type\":\"pie\"}]},\"layout\":{\"autotypenumbers\":\"strict\",\"colorway\":[\"#636efa\",\"#EF553B\",\"#00cc96\",\"#ab63fa\",\"#FFA15A\",\"#19d3f3\",\"#FF6692\",\"#B6E880\",\"#FF97FF\",\"#FECB52\"],\"font\":{\"color\":\"#2a3f5f\"},\"hovermode\":\"closest\",\"hoverlabel\":{\"align\":\"left\"},\"paper_bgcolor\":\"white\",\"plot_bgcolor\":\"#E5ECF6\",\"polar\":{\"bgcolor\":\"#E5ECF6\",\"angularaxis\":{\"gridcolor\":\"white\",\"linecolor\":\"white\",\"ticks\":\"\"},\"radialaxis\":{\"gridcolor\":\"white\",\"linecolor\":\"white\",\"ticks\":\"\"}},\"ternary\":{\"bgcolor\":\"#E5ECF6\",\"aaxis\":{\"gridcolor\":\"white\",\"linecolor\":\"white\",\"ticks\":\"\"},\"baxis\":{\"gridcolor\":\"white\",\"linecolor\":\"white\",\"ticks\":\"\"},\"caxis\":{\"gridcolor\":\"white\",\"linecolor\":\"white\",\"ticks\":\"\"}},\"coloraxis\":{\"colorbar\":{\"outlinewidth\":0,\"ticks\":\"\"}},\"colorscale\":{\"sequential\":[[0.0,\"#0d0887\"],[0.1111111111111111,\"#46039f\"],[0.2222222222222222,\"#7201a8\"],[0.3333333333333333,\"#9c179e\"],[0.4444444444444444,\"#bd3786\"],[0.5555555555555556,\"#d8576b\"],[0.6666666666666666,\"#ed7953\"],[0.7777777777777778,\"#fb9f3a\"],[0.8888888888888888,\"#fdca26\"],[1.0,\"#f0f921\"]],\"sequentialminus\":[[0.0,\"#0d0887\"],[0.1111111111111111,\"#46039f\"],[0.2222222222222222,\"#7201a8\"],[0.3333333333333333,\"#9c179e\"],[0.4444444444444444,\"#bd3786\"],[0.5555555555555556,\"#d8576b\"],[0.6666666666666666,\"#ed7953\"],[0.7777777777777778,\"#fb9f3a\"],[0.8888888888888888,\"#fdca26\"],[1.0,\"#f0f921\"]],\"diverging\":[[0,\"#8e0152\"],[0.1,\"#c51b7d\"],[0.2,\"#de77ae\"],[0.3,\"#f1b6da\"],[0.4,\"#fde0ef\"],[0.5,\"#f7f7f7\"],[0.6,\"#e6f5d0\"],[0.7,\"#b8e186\"],[0.8,\"#7fbc41\"],[0.9,\"#4d9221\"],[1,\"#276419\"]]},\"xaxis\":{\"gridcolor\":\"white\",\"linecolor\":\"white\",\"ticks\":\"\",\"title\":{\"standoff\":15},\"zerolinecolor\":\"white\",\"automargin\":true,\"zerolinewidth\":2},\"yaxis\":{\"gridcolor\":\"white\",\"linecolor\":\"white\",\"ticks\":\"\",\"title\":{\"standoff\":15},\"zerolinecolor\":\"white\",\"automargin\":true,\"zerolinewidth\":2},\"scene\":{\"xaxis\":{\"backgroundcolor\":\"#E5ECF6\",\"gridcolor\":\"white\",\"linecolor\":\"white\",\"showbackground\":true,\"ticks\":\"\",\"zerolinecolor\":\"white\",\"gridwidth\":2},\"yaxis\":{\"backgroundcolor\":\"#E5ECF6\",\"gridcolor\":\"white\",\"linecolor\":\"white\",\"showbackground\":true,\"ticks\":\"\",\"zerolinecolor\":\"white\",\"gridwidth\":2},\"zaxis\":{\"backgroundcolor\":\"#E5ECF6\",\"gridcolor\":\"white\",\"linecolor\":\"white\",\"showbackground\":true,\"ticks\":\"\",\"zerolinecolor\":\"white\",\"gridwidth\":2}},\"shapedefaults\":{\"line\":{\"color\":\"#2a3f5f\"}},\"annotationdefaults\":{\"arrowcolor\":\"#2a3f5f\",\"arrowhead\":0,\"arrowwidth\":1},\"geo\":{\"bgcolor\":\"white\",\"landcolor\":\"#E5ECF6\",\"subunitcolor\":\"white\",\"showland\":true,\"showlakes\":true,\"lakecolor\":\"white\"},\"title\":{\"x\":0.05},\"mapbox\":{\"style\":\"light\"}}},\"xaxis\":{\"anchor\":\"y\",\"domain\":[0.0,0.45]},\"yaxis\":{\"anchor\":\"x\",\"domain\":[0.625,1.0]},\"xaxis2\":{\"anchor\":\"y2\",\"domain\":[0.55,1.0]},\"yaxis2\":{\"anchor\":\"x2\",\"domain\":[0.625,1.0]},\"xaxis3\":{\"anchor\":\"y3\",\"domain\":[0.0,0.45]},\"yaxis3\":{\"anchor\":\"x3\",\"domain\":[0.0,0.375]},\"xaxis4\":{\"anchor\":\"y4\",\"domain\":[0.55,1.0]},\"yaxis4\":{\"anchor\":\"x4\",\"domain\":[0.0,0.375]},\"annotations\":[{\"font\":{\"size\":16},\"showarrow\":false,\"text\":\"Company Size vs Mental Health Support\",\"x\":0.225,\"xanchor\":\"center\",\"xref\":\"paper\",\"y\":1.0,\"yanchor\":\"bottom\",\"yref\":\"paper\"},{\"font\":{\"size\":16},\"showarrow\":false,\"text\":\"Impact of Remote Work on Mental Health\",\"x\":0.775,\"xanchor\":\"center\",\"xref\":\"paper\",\"y\":1.0,\"yanchor\":\"bottom\",\"yref\":\"paper\"},{\"font\":{\"size\":16},\"showarrow\":false,\"text\":\"Tech vs Non-Tech Companies: Mental Health Trends\",\"x\":0.225,\"xanchor\":\"center\",\"xref\":\"paper\",\"y\":0.375,\"yanchor\":\"bottom\",\"yref\":\"paper\"},{\"font\":{\"size\":16},\"showarrow\":false,\"text\":\"Remote Work and Treatment Seeking Behavior\",\"x\":0.775,\"xanchor\":\"center\",\"xref\":\"paper\",\"y\":0.375,\"yanchor\":\"bottom\",\"yref\":\"paper\"}],\"title\":{\"text\":\"Workplace Environment and Job Type: Mental Health Insights\"},\"height\":800,\"width\":1400},                        {\"responsive\": true}                    ).then(function(){\n",
              "                            \n",
              "var gd = document.getElementById('1315b4cb-3566-4529-b45f-d6dd8f892c36');\n",
              "var x = new MutationObserver(function (mutations, observer) {{\n",
              "        var display = window.getComputedStyle(gd).display;\n",
              "        if (!display || display === 'none') {{\n",
              "            console.log([gd, 'removed!']);\n",
              "            Plotly.purge(gd);\n",
              "            observer.disconnect();\n",
              "        }}\n",
              "}});\n",
              "\n",
              "// Listen for the removal of the full notebook cells\n",
              "var notebookContainer = gd.closest('#notebook-container');\n",
              "if (notebookContainer) {{\n",
              "    x.observe(notebookContainer, {childList: true});\n",
              "}}\n",
              "\n",
              "// Listen for the clearing of the current output cell\n",
              "var outputEl = gd.closest('.output');\n",
              "if (outputEl) {{\n",
              "    x.observe(outputEl, {childList: true});\n",
              "}}\n",
              "\n",
              "                        })                };                            </script>        </div>\n",
              "</body>\n",
              "</html>"
            ]
          },
          "metadata": {}
        }
      ]
    },
    {
      "cell_type": "markdown",
      "source": [
        "\n",
        "\n",
        "---\n",
        "\n",
        "\n",
        "\n",
        "## **Combined Mental Health Insights Visualization**\n",
        "\n",
        "This project analyzes survey data related to mental health and workplace support systems. The dataset includes attributes such as gender, age, workplace programs, mental health support, family history, and treatment-seeking behavior.\n",
        "\n",
        "### **Objective:**\n",
        "\n",
        "To combine and visualize key factors that impact mental health in the workplace, answering questions like:\n",
        "\n",
        "### **Gender and Workplace Support:**\n",
        "\n",
        "Do men and women perceive workplace support differently?\n",
        "\n",
        "### **Age and Company Benefits:**\n",
        "\n",
        "Are younger or older employees more likely to work in companies offering mental health benefits?\n",
        "\n",
        "### **Family History and Work Interference:**\n",
        "\n",
        "Does having a family history of mental illness correlate with higher work interference?\n",
        "\n",
        "### **Treatment vs Workplace Programs:**\n",
        "\n",
        "Are employees in workplaces with mental health programs more likely to seek treatment?\n"
      ],
      "metadata": {
        "id": "seCK_BS63AtF"
      }
    },
    {
      "cell_type": "code",
      "source": [
        "import pandas as pd\n",
        "import plotly.graph_objects as go\n",
        "from plotly.subplots import make_subplots\n",
        "\n",
        "# Create age groups if not already categorized\n",
        "data['Age_Group'] = pd.cut(data['Age'], bins=[18, 25, 35, 45, 60, 100],\n",
        "                           labels=[\"18-25\", \"26-35\", \"36-45\", \"46-60\", \"60+\"])\n",
        "\n",
        "# Initialize Subplots in a Grid Layout (2x2)\n",
        "fig = make_subplots(\n",
        "    rows=2, cols=2,\n",
        "    subplot_titles=(\n",
        "        \"Gender and Workplace Support\",\n",
        "        \"Age and Company Benefits\",\n",
        "        \"Family History and Work Interference\",\n",
        "        \"Treatment vs Workplace Programs\"\n",
        "    )\n",
        ")\n",
        "\n",
        "# ----------------- Plot 1: Gender and Workplace Support -----------------\n",
        "gender_support = data.groupby([\"Gender_Cleaned\", \"treatment\"]).size().reset_index(name=\"Count\")\n",
        "\n",
        "for support in gender_support['treatment'].unique():\n",
        "    subset = gender_support[gender_support[\"treatment\"] == support]\n",
        "    fig.add_trace(\n",
        "        go.Bar(x=subset[\"Gender_Cleaned\"], y=subset[\"Count\"], name=f\"Support: {support}\"),\n",
        "        row=1, col=1\n",
        "    )\n",
        "\n",
        "# ----------------- Plot 2: Age and Company Benefits -----------------\n",
        "age_benefits = data.groupby([\"Age_Group\", \"benefits\"]).size().reset_index(name=\"Count\")\n",
        "\n",
        "for benefit in age_benefits['benefits'].unique():\n",
        "    subset = age_benefits[age_benefits[\"benefits\"] == benefit]\n",
        "    fig.add_trace(\n",
        "        go.Bar(x=subset[\"Age_Group\"], y=subset[\"Count\"], name=f\"Benefit: {benefit}\"),\n",
        "        row=1, col=2\n",
        "    )\n",
        "\n",
        "# ----------------- Plot 3: Family History and Work Interference -----------------\n",
        "family_interference = data.groupby([\"family_history\", \"work_interfere\"]).size().reset_index(name=\"Count\")\n",
        "\n",
        "for interference in family_interference['work_interfere'].unique():\n",
        "    subset = family_interference[family_interference[\"work_interfere\"] == interference]\n",
        "    fig.add_trace(\n",
        "        go.Bar(x=subset[\"family_history\"], y=subset[\"Count\"], name=f\"Interference: {interference}\"),\n",
        "        row=2, col=1\n",
        "    )\n",
        "\n",
        "# ----------------- Plot 4: Treatment vs Workplace Programs -----------------\n",
        "treatment_programs = data.groupby([\"wellness_program\", \"treatment\"]).size().reset_index(name=\"Count\")\n",
        "\n",
        "for treatment in treatment_programs['treatment'].unique():\n",
        "    subset = treatment_programs[treatment_programs[\"treatment\"] == treatment]\n",
        "    fig.add_trace(\n",
        "        go.Bar(x=subset[\"wellness_program\"], y=subset[\"Count\"], name=f\"Treatment: {treatment}\"),\n",
        "        row=2, col=2\n",
        "    )\n",
        "\n",
        "# ----------------- Update Layout -----------------\n",
        "fig.update_layout(\n",
        "    title_text=\"Combined Mental Health Insights\",\n",
        "    height=900,\n",
        "    width=1400,\n",
        "    showlegend=True\n",
        ")\n",
        "\n",
        "# Update axes for better readability\n",
        "fig.update_xaxes(title_text=\"Gender\", row=1, col=1)\n",
        "fig.update_xaxes(title_text=\"Age Group\", row=1, col=2)\n",
        "fig.update_xaxes(title_text=\"Family History\", row=2, col=1)\n",
        "fig.update_xaxes(title_text=\"Company Programs\", row=2, col=2)\n",
        "\n",
        "fig.update_yaxes(title_text=\"Count\", row=1, col=1)\n",
        "fig.update_yaxes(title_text=\"Count\", row=1, col=2)\n",
        "fig.update_yaxes(title_text=\"Count\", row=2, col=1)\n",
        "fig.update_yaxes(title_text=\"Count\", row=2, col=2)\n",
        "\n",
        "# Show the figure\n",
        "fig.show()\n"
      ],
      "metadata": {
        "id": "co2WmOq4f5Jf",
        "colab": {
          "base_uri": "https://localhost:8080/",
          "height": 937
        },
        "outputId": "df1662ef-fd4b-4c20-9e68-7156f42e0abc"
      },
      "execution_count": 16,
      "outputs": [
        {
          "output_type": "display_data",
          "data": {
            "text/html": [
              "<html>\n",
              "<head><meta charset=\"utf-8\" /></head>\n",
              "<body>\n",
              "    <div>            <script src=\"https://cdnjs.cloudflare.com/ajax/libs/mathjax/2.7.5/MathJax.js?config=TeX-AMS-MML_SVG\"></script><script type=\"text/javascript\">if (window.MathJax && window.MathJax.Hub && window.MathJax.Hub.Config) {window.MathJax.Hub.Config({SVG: {font: \"STIX-Web\"}});}</script>                <script type=\"text/javascript\">window.PlotlyConfig = {MathJaxConfig: 'local'};</script>\n",
              "        <script charset=\"utf-8\" src=\"https://cdn.plot.ly/plotly-2.35.2.min.js\"></script>                <div id=\"1afdc41e-16da-413c-ba0c-4612e5fedbbf\" class=\"plotly-graph-div\" style=\"height:900px; width:1400px;\"></div>            <script type=\"text/javascript\">                                    window.PLOTLYENV=window.PLOTLYENV || {};                                    if (document.getElementById(\"1afdc41e-16da-413c-ba0c-4612e5fedbbf\")) {                    Plotly.newPlot(                        \"1afdc41e-16da-413c-ba0c-4612e5fedbbf\",                        [{\"name\":\"Support: No\",\"x\":[\"Female\",\"Male\",\"Non-binary\\u002fOther\"],\"y\":[78,541,3],\"type\":\"bar\",\"xaxis\":\"x\",\"yaxis\":\"y\"},{\"name\":\"Support: Yes\",\"x\":[\"Female\",\"Male\",\"Non-binary\\u002fOther\"],\"y\":[171,451,8],\"type\":\"bar\",\"xaxis\":\"x\",\"yaxis\":\"y\"},{\"name\":\"Benefit: Don't know\",\"x\":[\"18-25\",\"26-35\",\"36-45\",\"46-60\",\"60+\"],\"y\":[96,221,71,15,0],\"type\":\"bar\",\"xaxis\":\"x2\",\"yaxis\":\"y2\"},{\"name\":\"Benefit: No\",\"x\":[\"18-25\",\"26-35\",\"36-45\",\"46-60\",\"60+\"],\"y\":[54,230,73,10,2],\"type\":\"bar\",\"xaxis\":\"x2\",\"yaxis\":\"y2\"},{\"name\":\"Benefit: Yes\",\"x\":[\"18-25\",\"26-35\",\"36-45\",\"46-60\",\"60+\"],\"y\":[60,250,133,27,2],\"type\":\"bar\",\"xaxis\":\"x2\",\"yaxis\":\"y2\"},{\"name\":\"Interference: Never\",\"x\":[\"No\",\"Yes\"],\"y\":[175,38],\"type\":\"bar\",\"xaxis\":\"x3\",\"yaxis\":\"y3\"},{\"name\":\"Interference: Often\",\"x\":[\"No\",\"Yes\"],\"y\":[64,80],\"type\":\"bar\",\"xaxis\":\"x3\",\"yaxis\":\"y3\"},{\"name\":\"Interference: Rarely\",\"x\":[\"No\",\"Yes\"],\"y\":[92,81],\"type\":\"bar\",\"xaxis\":\"x3\",\"yaxis\":\"y3\"},{\"name\":\"Interference: Sometimes\",\"x\":[\"No\",\"Yes\"],\"y\":[215,250],\"type\":\"bar\",\"xaxis\":\"x3\",\"yaxis\":\"y3\"},{\"name\":\"Treatment: No\",\"x\":[\"Don't know\",\"No\",\"Yes\"],\"y\":[107,422,93],\"type\":\"bar\",\"xaxis\":\"x4\",\"yaxis\":\"y4\"},{\"name\":\"Treatment: Yes\",\"x\":[\"Don't know\",\"No\",\"Yes\"],\"y\":[81,420,136],\"type\":\"bar\",\"xaxis\":\"x4\",\"yaxis\":\"y4\"}],                        {\"template\":{\"data\":{\"histogram2dcontour\":[{\"type\":\"histogram2dcontour\",\"colorbar\":{\"outlinewidth\":0,\"ticks\":\"\"},\"colorscale\":[[0.0,\"#0d0887\"],[0.1111111111111111,\"#46039f\"],[0.2222222222222222,\"#7201a8\"],[0.3333333333333333,\"#9c179e\"],[0.4444444444444444,\"#bd3786\"],[0.5555555555555556,\"#d8576b\"],[0.6666666666666666,\"#ed7953\"],[0.7777777777777778,\"#fb9f3a\"],[0.8888888888888888,\"#fdca26\"],[1.0,\"#f0f921\"]]}],\"choropleth\":[{\"type\":\"choropleth\",\"colorbar\":{\"outlinewidth\":0,\"ticks\":\"\"}}],\"histogram2d\":[{\"type\":\"histogram2d\",\"colorbar\":{\"outlinewidth\":0,\"ticks\":\"\"},\"colorscale\":[[0.0,\"#0d0887\"],[0.1111111111111111,\"#46039f\"],[0.2222222222222222,\"#7201a8\"],[0.3333333333333333,\"#9c179e\"],[0.4444444444444444,\"#bd3786\"],[0.5555555555555556,\"#d8576b\"],[0.6666666666666666,\"#ed7953\"],[0.7777777777777778,\"#fb9f3a\"],[0.8888888888888888,\"#fdca26\"],[1.0,\"#f0f921\"]]}],\"heatmap\":[{\"type\":\"heatmap\",\"colorbar\":{\"outlinewidth\":0,\"ticks\":\"\"},\"colorscale\":[[0.0,\"#0d0887\"],[0.1111111111111111,\"#46039f\"],[0.2222222222222222,\"#7201a8\"],[0.3333333333333333,\"#9c179e\"],[0.4444444444444444,\"#bd3786\"],[0.5555555555555556,\"#d8576b\"],[0.6666666666666666,\"#ed7953\"],[0.7777777777777778,\"#fb9f3a\"],[0.8888888888888888,\"#fdca26\"],[1.0,\"#f0f921\"]]}],\"heatmapgl\":[{\"type\":\"heatmapgl\",\"colorbar\":{\"outlinewidth\":0,\"ticks\":\"\"},\"colorscale\":[[0.0,\"#0d0887\"],[0.1111111111111111,\"#46039f\"],[0.2222222222222222,\"#7201a8\"],[0.3333333333333333,\"#9c179e\"],[0.4444444444444444,\"#bd3786\"],[0.5555555555555556,\"#d8576b\"],[0.6666666666666666,\"#ed7953\"],[0.7777777777777778,\"#fb9f3a\"],[0.8888888888888888,\"#fdca26\"],[1.0,\"#f0f921\"]]}],\"contourcarpet\":[{\"type\":\"contourcarpet\",\"colorbar\":{\"outlinewidth\":0,\"ticks\":\"\"}}],\"contour\":[{\"type\":\"contour\",\"colorbar\":{\"outlinewidth\":0,\"ticks\":\"\"},\"colorscale\":[[0.0,\"#0d0887\"],[0.1111111111111111,\"#46039f\"],[0.2222222222222222,\"#7201a8\"],[0.3333333333333333,\"#9c179e\"],[0.4444444444444444,\"#bd3786\"],[0.5555555555555556,\"#d8576b\"],[0.6666666666666666,\"#ed7953\"],[0.7777777777777778,\"#fb9f3a\"],[0.8888888888888888,\"#fdca26\"],[1.0,\"#f0f921\"]]}],\"surface\":[{\"type\":\"surface\",\"colorbar\":{\"outlinewidth\":0,\"ticks\":\"\"},\"colorscale\":[[0.0,\"#0d0887\"],[0.1111111111111111,\"#46039f\"],[0.2222222222222222,\"#7201a8\"],[0.3333333333333333,\"#9c179e\"],[0.4444444444444444,\"#bd3786\"],[0.5555555555555556,\"#d8576b\"],[0.6666666666666666,\"#ed7953\"],[0.7777777777777778,\"#fb9f3a\"],[0.8888888888888888,\"#fdca26\"],[1.0,\"#f0f921\"]]}],\"mesh3d\":[{\"type\":\"mesh3d\",\"colorbar\":{\"outlinewidth\":0,\"ticks\":\"\"}}],\"scatter\":[{\"fillpattern\":{\"fillmode\":\"overlay\",\"size\":10,\"solidity\":0.2},\"type\":\"scatter\"}],\"parcoords\":[{\"type\":\"parcoords\",\"line\":{\"colorbar\":{\"outlinewidth\":0,\"ticks\":\"\"}}}],\"scatterpolargl\":[{\"type\":\"scatterpolargl\",\"marker\":{\"colorbar\":{\"outlinewidth\":0,\"ticks\":\"\"}}}],\"bar\":[{\"error_x\":{\"color\":\"#2a3f5f\"},\"error_y\":{\"color\":\"#2a3f5f\"},\"marker\":{\"line\":{\"color\":\"#E5ECF6\",\"width\":0.5},\"pattern\":{\"fillmode\":\"overlay\",\"size\":10,\"solidity\":0.2}},\"type\":\"bar\"}],\"scattergeo\":[{\"type\":\"scattergeo\",\"marker\":{\"colorbar\":{\"outlinewidth\":0,\"ticks\":\"\"}}}],\"scatterpolar\":[{\"type\":\"scatterpolar\",\"marker\":{\"colorbar\":{\"outlinewidth\":0,\"ticks\":\"\"}}}],\"histogram\":[{\"marker\":{\"pattern\":{\"fillmode\":\"overlay\",\"size\":10,\"solidity\":0.2}},\"type\":\"histogram\"}],\"scattergl\":[{\"type\":\"scattergl\",\"marker\":{\"colorbar\":{\"outlinewidth\":0,\"ticks\":\"\"}}}],\"scatter3d\":[{\"type\":\"scatter3d\",\"line\":{\"colorbar\":{\"outlinewidth\":0,\"ticks\":\"\"}},\"marker\":{\"colorbar\":{\"outlinewidth\":0,\"ticks\":\"\"}}}],\"scattermapbox\":[{\"type\":\"scattermapbox\",\"marker\":{\"colorbar\":{\"outlinewidth\":0,\"ticks\":\"\"}}}],\"scatterternary\":[{\"type\":\"scatterternary\",\"marker\":{\"colorbar\":{\"outlinewidth\":0,\"ticks\":\"\"}}}],\"scattercarpet\":[{\"type\":\"scattercarpet\",\"marker\":{\"colorbar\":{\"outlinewidth\":0,\"ticks\":\"\"}}}],\"carpet\":[{\"aaxis\":{\"endlinecolor\":\"#2a3f5f\",\"gridcolor\":\"white\",\"linecolor\":\"white\",\"minorgridcolor\":\"white\",\"startlinecolor\":\"#2a3f5f\"},\"baxis\":{\"endlinecolor\":\"#2a3f5f\",\"gridcolor\":\"white\",\"linecolor\":\"white\",\"minorgridcolor\":\"white\",\"startlinecolor\":\"#2a3f5f\"},\"type\":\"carpet\"}],\"table\":[{\"cells\":{\"fill\":{\"color\":\"#EBF0F8\"},\"line\":{\"color\":\"white\"}},\"header\":{\"fill\":{\"color\":\"#C8D4E3\"},\"line\":{\"color\":\"white\"}},\"type\":\"table\"}],\"barpolar\":[{\"marker\":{\"line\":{\"color\":\"#E5ECF6\",\"width\":0.5},\"pattern\":{\"fillmode\":\"overlay\",\"size\":10,\"solidity\":0.2}},\"type\":\"barpolar\"}],\"pie\":[{\"automargin\":true,\"type\":\"pie\"}]},\"layout\":{\"autotypenumbers\":\"strict\",\"colorway\":[\"#636efa\",\"#EF553B\",\"#00cc96\",\"#ab63fa\",\"#FFA15A\",\"#19d3f3\",\"#FF6692\",\"#B6E880\",\"#FF97FF\",\"#FECB52\"],\"font\":{\"color\":\"#2a3f5f\"},\"hovermode\":\"closest\",\"hoverlabel\":{\"align\":\"left\"},\"paper_bgcolor\":\"white\",\"plot_bgcolor\":\"#E5ECF6\",\"polar\":{\"bgcolor\":\"#E5ECF6\",\"angularaxis\":{\"gridcolor\":\"white\",\"linecolor\":\"white\",\"ticks\":\"\"},\"radialaxis\":{\"gridcolor\":\"white\",\"linecolor\":\"white\",\"ticks\":\"\"}},\"ternary\":{\"bgcolor\":\"#E5ECF6\",\"aaxis\":{\"gridcolor\":\"white\",\"linecolor\":\"white\",\"ticks\":\"\"},\"baxis\":{\"gridcolor\":\"white\",\"linecolor\":\"white\",\"ticks\":\"\"},\"caxis\":{\"gridcolor\":\"white\",\"linecolor\":\"white\",\"ticks\":\"\"}},\"coloraxis\":{\"colorbar\":{\"outlinewidth\":0,\"ticks\":\"\"}},\"colorscale\":{\"sequential\":[[0.0,\"#0d0887\"],[0.1111111111111111,\"#46039f\"],[0.2222222222222222,\"#7201a8\"],[0.3333333333333333,\"#9c179e\"],[0.4444444444444444,\"#bd3786\"],[0.5555555555555556,\"#d8576b\"],[0.6666666666666666,\"#ed7953\"],[0.7777777777777778,\"#fb9f3a\"],[0.8888888888888888,\"#fdca26\"],[1.0,\"#f0f921\"]],\"sequentialminus\":[[0.0,\"#0d0887\"],[0.1111111111111111,\"#46039f\"],[0.2222222222222222,\"#7201a8\"],[0.3333333333333333,\"#9c179e\"],[0.4444444444444444,\"#bd3786\"],[0.5555555555555556,\"#d8576b\"],[0.6666666666666666,\"#ed7953\"],[0.7777777777777778,\"#fb9f3a\"],[0.8888888888888888,\"#fdca26\"],[1.0,\"#f0f921\"]],\"diverging\":[[0,\"#8e0152\"],[0.1,\"#c51b7d\"],[0.2,\"#de77ae\"],[0.3,\"#f1b6da\"],[0.4,\"#fde0ef\"],[0.5,\"#f7f7f7\"],[0.6,\"#e6f5d0\"],[0.7,\"#b8e186\"],[0.8,\"#7fbc41\"],[0.9,\"#4d9221\"],[1,\"#276419\"]]},\"xaxis\":{\"gridcolor\":\"white\",\"linecolor\":\"white\",\"ticks\":\"\",\"title\":{\"standoff\":15},\"zerolinecolor\":\"white\",\"automargin\":true,\"zerolinewidth\":2},\"yaxis\":{\"gridcolor\":\"white\",\"linecolor\":\"white\",\"ticks\":\"\",\"title\":{\"standoff\":15},\"zerolinecolor\":\"white\",\"automargin\":true,\"zerolinewidth\":2},\"scene\":{\"xaxis\":{\"backgroundcolor\":\"#E5ECF6\",\"gridcolor\":\"white\",\"linecolor\":\"white\",\"showbackground\":true,\"ticks\":\"\",\"zerolinecolor\":\"white\",\"gridwidth\":2},\"yaxis\":{\"backgroundcolor\":\"#E5ECF6\",\"gridcolor\":\"white\",\"linecolor\":\"white\",\"showbackground\":true,\"ticks\":\"\",\"zerolinecolor\":\"white\",\"gridwidth\":2},\"zaxis\":{\"backgroundcolor\":\"#E5ECF6\",\"gridcolor\":\"white\",\"linecolor\":\"white\",\"showbackground\":true,\"ticks\":\"\",\"zerolinecolor\":\"white\",\"gridwidth\":2}},\"shapedefaults\":{\"line\":{\"color\":\"#2a3f5f\"}},\"annotationdefaults\":{\"arrowcolor\":\"#2a3f5f\",\"arrowhead\":0,\"arrowwidth\":1},\"geo\":{\"bgcolor\":\"white\",\"landcolor\":\"#E5ECF6\",\"subunitcolor\":\"white\",\"showland\":true,\"showlakes\":true,\"lakecolor\":\"white\"},\"title\":{\"x\":0.05},\"mapbox\":{\"style\":\"light\"}}},\"xaxis\":{\"anchor\":\"y\",\"domain\":[0.0,0.45],\"title\":{\"text\":\"Gender\"}},\"yaxis\":{\"anchor\":\"x\",\"domain\":[0.625,1.0],\"title\":{\"text\":\"Count\"}},\"xaxis2\":{\"anchor\":\"y2\",\"domain\":[0.55,1.0],\"title\":{\"text\":\"Age Group\"}},\"yaxis2\":{\"anchor\":\"x2\",\"domain\":[0.625,1.0],\"title\":{\"text\":\"Count\"}},\"xaxis3\":{\"anchor\":\"y3\",\"domain\":[0.0,0.45],\"title\":{\"text\":\"Family History\"}},\"yaxis3\":{\"anchor\":\"x3\",\"domain\":[0.0,0.375],\"title\":{\"text\":\"Count\"}},\"xaxis4\":{\"anchor\":\"y4\",\"domain\":[0.55,1.0],\"title\":{\"text\":\"Company Programs\"}},\"yaxis4\":{\"anchor\":\"x4\",\"domain\":[0.0,0.375],\"title\":{\"text\":\"Count\"}},\"annotations\":[{\"font\":{\"size\":16},\"showarrow\":false,\"text\":\"Gender and Workplace Support\",\"x\":0.225,\"xanchor\":\"center\",\"xref\":\"paper\",\"y\":1.0,\"yanchor\":\"bottom\",\"yref\":\"paper\"},{\"font\":{\"size\":16},\"showarrow\":false,\"text\":\"Age and Company Benefits\",\"x\":0.775,\"xanchor\":\"center\",\"xref\":\"paper\",\"y\":1.0,\"yanchor\":\"bottom\",\"yref\":\"paper\"},{\"font\":{\"size\":16},\"showarrow\":false,\"text\":\"Family History and Work Interference\",\"x\":0.225,\"xanchor\":\"center\",\"xref\":\"paper\",\"y\":0.375,\"yanchor\":\"bottom\",\"yref\":\"paper\"},{\"font\":{\"size\":16},\"showarrow\":false,\"text\":\"Treatment vs Workplace Programs\",\"x\":0.775,\"xanchor\":\"center\",\"xref\":\"paper\",\"y\":0.375,\"yanchor\":\"bottom\",\"yref\":\"paper\"}],\"title\":{\"text\":\"Combined Mental Health Insights\"},\"height\":900,\"width\":1400,\"showlegend\":true},                        {\"responsive\": true}                    ).then(function(){\n",
              "                            \n",
              "var gd = document.getElementById('1afdc41e-16da-413c-ba0c-4612e5fedbbf');\n",
              "var x = new MutationObserver(function (mutations, observer) {{\n",
              "        var display = window.getComputedStyle(gd).display;\n",
              "        if (!display || display === 'none') {{\n",
              "            console.log([gd, 'removed!']);\n",
              "            Plotly.purge(gd);\n",
              "            observer.disconnect();\n",
              "        }}\n",
              "}});\n",
              "\n",
              "// Listen for the removal of the full notebook cells\n",
              "var notebookContainer = gd.closest('#notebook-container');\n",
              "if (notebookContainer) {{\n",
              "    x.observe(notebookContainer, {childList: true});\n",
              "}}\n",
              "\n",
              "// Listen for the clearing of the current output cell\n",
              "var outputEl = gd.closest('.output');\n",
              "if (outputEl) {{\n",
              "    x.observe(outputEl, {childList: true});\n",
              "}}\n",
              "\n",
              "                        })                };                            </script>        </div>\n",
              "</body>\n",
              "</html>"
            ]
          },
          "metadata": {}
        }
      ]
    },
    {
      "cell_type": "markdown",
      "source": [
        "# **Conclusions from the above Data Analysis**\n",
        "\n",
        "1. **Treatment Needs by Age Group:**\n",
        "\n",
        "Employees aged 46-60 have the highest likelihood (59.6%) of requiring mental health treatment.\n",
        "\n",
        "Younger employees (18-25 and 26-35) show a similar trend, with around 48.5% seeking treatment, indicating mental health issues span all age groups.\n",
        "\n",
        "\n",
        "\n",
        "2. **Work Interference:**\n",
        "\n",
        "46.7% of employees reported \"Sometimes\" experiencing work interference due to mental health issues, the highest among categories.\n",
        "\n",
        "This highlights the significant impact of mental health on productivity.\n",
        "\n",
        "\n",
        "\n",
        "3. **Supervisor Support:**\n",
        "\n",
        "Employees without supportive supervisors (52.7%) are more likely to seek treatment compared to those with supportive supervisors (48.4%).\n",
        "\n",
        "Supervisor attitudes significantly influence mental health treatment decisions.\n",
        "\n",
        "\n",
        "\n",
        "4. **Mental Health Interviews:**\n",
        "\n",
        "80% of employees reported their workplace does not include mental health discussions during interviews, showing a lack of prioritization for mental health in organizational policies.\n",
        "\n",
        "\n",
        "\n",
        "\n",
        "\n",
        "---\n",
        "\n",
        "# **Steps to Improve Workplace Mental Health**\n",
        "\n",
        "1. **Raise Awareness and Normalize Mental Health:**\n",
        "\n",
        "Conduct regular mental health training and workshops for employees and management to destigmatize mental health discussions.\n",
        "\n",
        "\n",
        "\n",
        "2. **Incorporate Mental Health in Workplace Policies:**\n",
        "\n",
        "Introduce mandatory mental health check-ins and include mental health topics in onboarding or periodic employee interviews.\n",
        "\n",
        "\n",
        "\n",
        "3. **Enhance Supervisor Training:**\n",
        "\n",
        "Train supervisors to recognize signs of mental health struggles and provide them with tools to support employees effectively.\n",
        "\n",
        "\n",
        "\n",
        "4. **Flexible Work Arrangements:**\n",
        "\n",
        "Implement policies for remote work or flexible hours to reduce stress for employees reporting frequent work interference.\n",
        "\n",
        "\n",
        "\n",
        "5. **Create Peer Support Networks:**\n",
        "\n",
        "Facilitate peer-to-peer programs where employees can share experiences and seek informal support within a safe environment.\n",
        "\n",
        "\n",
        "\n",
        "6. **Invest in Mental Health Resources:**\n",
        "\n",
        "Provide access to professional counseling services or subsidize therapy costs for employees needing mental health support.\n",
        "\n",
        "\n",
        "\n",
        "\n",
        "\n",
        "---\n",
        "\n",
        "# **Why These Steps Are Necessary**\n",
        "\n",
        "**Improved Productivity:** Addressing mental health issues reduces absenteeism and boosts overall efficiency.\n",
        "\n",
        "**Employee Retention:** A supportive workplace culture increases employee loyalty and reduces turnover.\n",
        "\n",
        "**Legal and Ethical Responsibility:** Many regions now require organizations to address employee well-being, aligning with ethical best practices.\n",
        "\n",
        "**Competitive Advantage:** Organizations prioritizing mental health stand out in recruitment, attracting top talent.\n",
        "\n",
        "\n"
      ],
      "metadata": {
        "id": "oQpCCp3vQ2Mg"
      }
    },
    {
      "cell_type": "code",
      "source": [],
      "metadata": {
        "id": "H8P_G870sBeJ"
      },
      "execution_count": null,
      "outputs": []
    }
  ]
}